{
  "nbformat": 4,
  "nbformat_minor": 0,
  "metadata": {
    "colab": {
      "provenance": []
    },
    "kernelspec": {
      "name": "python3",
      "display_name": "Python 3"
    },
    "language_info": {
      "name": "python"
    }
  },
  "cells": [
    {
      "cell_type": "markdown",
      "source": [
        "# PREDICT THE BURNED AREA OF FOREST FIRES WITH NEURAL NETWORKS\n"
      ],
      "metadata": {
        "id": "z9AlAtq_ZQAD"
      }
    },
    {
      "cell_type": "code",
      "execution_count": null,
      "metadata": {
        "id": "g0kTxlOOV5HC"
      },
      "outputs": [],
      "source": [
        "import keras\n",
        "import pandas as pd\n",
        "from sklearn.model_selection import train_test_split, cross_val_score\n",
        "import seaborn as sns\n",
        "from keras.models import Sequential\n",
        "from keras.layers import Dense \n",
        "from matplotlib import pyplot as plt\n",
        "%matplotlib inline\n",
        "from sklearn.decomposition import PCA\n",
        "import tensorflow as tf\n",
        "tf.debugging.set_log_device_placement(False)\n",
        "import warnings\n",
        "warnings.filterwarnings('ignore')"
      ]
    },
    {
      "cell_type": "code",
      "source": [
        "# Generating reproducible results from same code\n",
        "tf.random.set_seed(14)"
      ],
      "metadata": {
        "id": "3GzVzS7bZNIa"
      },
      "execution_count": null,
      "outputs": []
    },
    {
      "cell_type": "markdown",
      "source": [
        "# 1. Data collection and description"
      ],
      "metadata": {
        "id": "poDOFYik2wl3"
      }
    },
    {
      "cell_type": "code",
      "source": [
        "from google.colab import files\n",
        "uploaded= files.upload()"
      ],
      "metadata": {
        "colab": {
          "base_uri": "https://localhost:8080/",
          "height": 73
        },
        "id": "lqr7HWzD0JZv",
        "outputId": "3916c582-697c-4efe-de26-df2860869a34"
      },
      "execution_count": null,
      "outputs": [
        {
          "output_type": "display_data",
          "data": {
            "text/plain": [
              "<IPython.core.display.HTML object>"
            ],
            "text/html": [
              "\n",
              "     <input type=\"file\" id=\"files-adcfd3a7-62c9-4ea5-aee2-56b5757afd5d\" name=\"files[]\" multiple disabled\n",
              "        style=\"border:none\" />\n",
              "     <output id=\"result-adcfd3a7-62c9-4ea5-aee2-56b5757afd5d\">\n",
              "      Upload widget is only available when the cell has been executed in the\n",
              "      current browser session. Please rerun this cell to enable.\n",
              "      </output>\n",
              "      <script>// Copyright 2017 Google LLC\n",
              "//\n",
              "// Licensed under the Apache License, Version 2.0 (the \"License\");\n",
              "// you may not use this file except in compliance with the License.\n",
              "// You may obtain a copy of the License at\n",
              "//\n",
              "//      http://www.apache.org/licenses/LICENSE-2.0\n",
              "//\n",
              "// Unless required by applicable law or agreed to in writing, software\n",
              "// distributed under the License is distributed on an \"AS IS\" BASIS,\n",
              "// WITHOUT WARRANTIES OR CONDITIONS OF ANY KIND, either express or implied.\n",
              "// See the License for the specific language governing permissions and\n",
              "// limitations under the License.\n",
              "\n",
              "/**\n",
              " * @fileoverview Helpers for google.colab Python module.\n",
              " */\n",
              "(function(scope) {\n",
              "function span(text, styleAttributes = {}) {\n",
              "  const element = document.createElement('span');\n",
              "  element.textContent = text;\n",
              "  for (const key of Object.keys(styleAttributes)) {\n",
              "    element.style[key] = styleAttributes[key];\n",
              "  }\n",
              "  return element;\n",
              "}\n",
              "\n",
              "// Max number of bytes which will be uploaded at a time.\n",
              "const MAX_PAYLOAD_SIZE = 100 * 1024;\n",
              "\n",
              "function _uploadFiles(inputId, outputId) {\n",
              "  const steps = uploadFilesStep(inputId, outputId);\n",
              "  const outputElement = document.getElementById(outputId);\n",
              "  // Cache steps on the outputElement to make it available for the next call\n",
              "  // to uploadFilesContinue from Python.\n",
              "  outputElement.steps = steps;\n",
              "\n",
              "  return _uploadFilesContinue(outputId);\n",
              "}\n",
              "\n",
              "// This is roughly an async generator (not supported in the browser yet),\n",
              "// where there are multiple asynchronous steps and the Python side is going\n",
              "// to poll for completion of each step.\n",
              "// This uses a Promise to block the python side on completion of each step,\n",
              "// then passes the result of the previous step as the input to the next step.\n",
              "function _uploadFilesContinue(outputId) {\n",
              "  const outputElement = document.getElementById(outputId);\n",
              "  const steps = outputElement.steps;\n",
              "\n",
              "  const next = steps.next(outputElement.lastPromiseValue);\n",
              "  return Promise.resolve(next.value.promise).then((value) => {\n",
              "    // Cache the last promise value to make it available to the next\n",
              "    // step of the generator.\n",
              "    outputElement.lastPromiseValue = value;\n",
              "    return next.value.response;\n",
              "  });\n",
              "}\n",
              "\n",
              "/**\n",
              " * Generator function which is called between each async step of the upload\n",
              " * process.\n",
              " * @param {string} inputId Element ID of the input file picker element.\n",
              " * @param {string} outputId Element ID of the output display.\n",
              " * @return {!Iterable<!Object>} Iterable of next steps.\n",
              " */\n",
              "function* uploadFilesStep(inputId, outputId) {\n",
              "  const inputElement = document.getElementById(inputId);\n",
              "  inputElement.disabled = false;\n",
              "\n",
              "  const outputElement = document.getElementById(outputId);\n",
              "  outputElement.innerHTML = '';\n",
              "\n",
              "  const pickedPromise = new Promise((resolve) => {\n",
              "    inputElement.addEventListener('change', (e) => {\n",
              "      resolve(e.target.files);\n",
              "    });\n",
              "  });\n",
              "\n",
              "  const cancel = document.createElement('button');\n",
              "  inputElement.parentElement.appendChild(cancel);\n",
              "  cancel.textContent = 'Cancel upload';\n",
              "  const cancelPromise = new Promise((resolve) => {\n",
              "    cancel.onclick = () => {\n",
              "      resolve(null);\n",
              "    };\n",
              "  });\n",
              "\n",
              "  // Wait for the user to pick the files.\n",
              "  const files = yield {\n",
              "    promise: Promise.race([pickedPromise, cancelPromise]),\n",
              "    response: {\n",
              "      action: 'starting',\n",
              "    }\n",
              "  };\n",
              "\n",
              "  cancel.remove();\n",
              "\n",
              "  // Disable the input element since further picks are not allowed.\n",
              "  inputElement.disabled = true;\n",
              "\n",
              "  if (!files) {\n",
              "    return {\n",
              "      response: {\n",
              "        action: 'complete',\n",
              "      }\n",
              "    };\n",
              "  }\n",
              "\n",
              "  for (const file of files) {\n",
              "    const li = document.createElement('li');\n",
              "    li.append(span(file.name, {fontWeight: 'bold'}));\n",
              "    li.append(span(\n",
              "        `(${file.type || 'n/a'}) - ${file.size} bytes, ` +\n",
              "        `last modified: ${\n",
              "            file.lastModifiedDate ? file.lastModifiedDate.toLocaleDateString() :\n",
              "                                    'n/a'} - `));\n",
              "    const percent = span('0% done');\n",
              "    li.appendChild(percent);\n",
              "\n",
              "    outputElement.appendChild(li);\n",
              "\n",
              "    const fileDataPromise = new Promise((resolve) => {\n",
              "      const reader = new FileReader();\n",
              "      reader.onload = (e) => {\n",
              "        resolve(e.target.result);\n",
              "      };\n",
              "      reader.readAsArrayBuffer(file);\n",
              "    });\n",
              "    // Wait for the data to be ready.\n",
              "    let fileData = yield {\n",
              "      promise: fileDataPromise,\n",
              "      response: {\n",
              "        action: 'continue',\n",
              "      }\n",
              "    };\n",
              "\n",
              "    // Use a chunked sending to avoid message size limits. See b/62115660.\n",
              "    let position = 0;\n",
              "    do {\n",
              "      const length = Math.min(fileData.byteLength - position, MAX_PAYLOAD_SIZE);\n",
              "      const chunk = new Uint8Array(fileData, position, length);\n",
              "      position += length;\n",
              "\n",
              "      const base64 = btoa(String.fromCharCode.apply(null, chunk));\n",
              "      yield {\n",
              "        response: {\n",
              "          action: 'append',\n",
              "          file: file.name,\n",
              "          data: base64,\n",
              "        },\n",
              "      };\n",
              "\n",
              "      let percentDone = fileData.byteLength === 0 ?\n",
              "          100 :\n",
              "          Math.round((position / fileData.byteLength) * 100);\n",
              "      percent.textContent = `${percentDone}% done`;\n",
              "\n",
              "    } while (position < fileData.byteLength);\n",
              "  }\n",
              "\n",
              "  // All done.\n",
              "  yield {\n",
              "    response: {\n",
              "      action: 'complete',\n",
              "    }\n",
              "  };\n",
              "}\n",
              "\n",
              "scope.google = scope.google || {};\n",
              "scope.google.colab = scope.google.colab || {};\n",
              "scope.google.colab._files = {\n",
              "  _uploadFiles,\n",
              "  _uploadFilesContinue,\n",
              "};\n",
              "})(self);\n",
              "</script> "
            ]
          },
          "metadata": {}
        },
        {
          "output_type": "stream",
          "name": "stdout",
          "text": [
            "Saving forestfires.csv to forestfires.csv\n"
          ]
        }
      ]
    },
    {
      "cell_type": "code",
      "source": [
        "forest= pd.read_csv('forestfires.csv')\n",
        "forest.head()"
      ],
      "metadata": {
        "id": "wthCFZ6IZNLh",
        "colab": {
          "base_uri": "https://localhost:8080/",
          "height": 300
        },
        "outputId": "2abb62d6-371c-4146-acf0-73e21c4199b7"
      },
      "execution_count": null,
      "outputs": [
        {
          "output_type": "execute_result",
          "data": {
            "text/plain": [
              "  month  day  FFMC   DMC     DC  ISI  temp  RH  wind  rain  ...  monthfeb  \\\n",
              "0   mar  fri  86.2  26.2   94.3  5.1   8.2  51   6.7   0.0  ...         0   \n",
              "1   oct  tue  90.6  35.4  669.1  6.7  18.0  33   0.9   0.0  ...         0   \n",
              "2   oct  sat  90.6  43.7  686.9  6.7  14.6  33   1.3   0.0  ...         0   \n",
              "3   mar  fri  91.7  33.3   77.5  9.0   8.3  97   4.0   0.2  ...         0   \n",
              "4   mar  sun  89.3  51.3  102.2  9.6  11.4  99   1.8   0.0  ...         0   \n",
              "\n",
              "   monthjan  monthjul  monthjun  monthmar  monthmay  monthnov  monthoct  \\\n",
              "0         0         0         0         1         0         0         0   \n",
              "1         0         0         0         0         0         0         1   \n",
              "2         0         0         0         0         0         0         1   \n",
              "3         0         0         0         1         0         0         0   \n",
              "4         0         0         0         1         0         0         0   \n",
              "\n",
              "   monthsep  size_category  \n",
              "0         0          small  \n",
              "1         0          small  \n",
              "2         0          small  \n",
              "3         0          small  \n",
              "4         0          small  \n",
              "\n",
              "[5 rows x 31 columns]"
            ],
            "text/html": [
              "\n",
              "  <div id=\"df-a3c2a0ba-a5fe-49e7-a738-cb978a1b012b\">\n",
              "    <div class=\"colab-df-container\">\n",
              "      <div>\n",
              "<style scoped>\n",
              "    .dataframe tbody tr th:only-of-type {\n",
              "        vertical-align: middle;\n",
              "    }\n",
              "\n",
              "    .dataframe tbody tr th {\n",
              "        vertical-align: top;\n",
              "    }\n",
              "\n",
              "    .dataframe thead th {\n",
              "        text-align: right;\n",
              "    }\n",
              "</style>\n",
              "<table border=\"1\" class=\"dataframe\">\n",
              "  <thead>\n",
              "    <tr style=\"text-align: right;\">\n",
              "      <th></th>\n",
              "      <th>month</th>\n",
              "      <th>day</th>\n",
              "      <th>FFMC</th>\n",
              "      <th>DMC</th>\n",
              "      <th>DC</th>\n",
              "      <th>ISI</th>\n",
              "      <th>temp</th>\n",
              "      <th>RH</th>\n",
              "      <th>wind</th>\n",
              "      <th>rain</th>\n",
              "      <th>...</th>\n",
              "      <th>monthfeb</th>\n",
              "      <th>monthjan</th>\n",
              "      <th>monthjul</th>\n",
              "      <th>monthjun</th>\n",
              "      <th>monthmar</th>\n",
              "      <th>monthmay</th>\n",
              "      <th>monthnov</th>\n",
              "      <th>monthoct</th>\n",
              "      <th>monthsep</th>\n",
              "      <th>size_category</th>\n",
              "    </tr>\n",
              "  </thead>\n",
              "  <tbody>\n",
              "    <tr>\n",
              "      <th>0</th>\n",
              "      <td>mar</td>\n",
              "      <td>fri</td>\n",
              "      <td>86.2</td>\n",
              "      <td>26.2</td>\n",
              "      <td>94.3</td>\n",
              "      <td>5.1</td>\n",
              "      <td>8.2</td>\n",
              "      <td>51</td>\n",
              "      <td>6.7</td>\n",
              "      <td>0.0</td>\n",
              "      <td>...</td>\n",
              "      <td>0</td>\n",
              "      <td>0</td>\n",
              "      <td>0</td>\n",
              "      <td>0</td>\n",
              "      <td>1</td>\n",
              "      <td>0</td>\n",
              "      <td>0</td>\n",
              "      <td>0</td>\n",
              "      <td>0</td>\n",
              "      <td>small</td>\n",
              "    </tr>\n",
              "    <tr>\n",
              "      <th>1</th>\n",
              "      <td>oct</td>\n",
              "      <td>tue</td>\n",
              "      <td>90.6</td>\n",
              "      <td>35.4</td>\n",
              "      <td>669.1</td>\n",
              "      <td>6.7</td>\n",
              "      <td>18.0</td>\n",
              "      <td>33</td>\n",
              "      <td>0.9</td>\n",
              "      <td>0.0</td>\n",
              "      <td>...</td>\n",
              "      <td>0</td>\n",
              "      <td>0</td>\n",
              "      <td>0</td>\n",
              "      <td>0</td>\n",
              "      <td>0</td>\n",
              "      <td>0</td>\n",
              "      <td>0</td>\n",
              "      <td>1</td>\n",
              "      <td>0</td>\n",
              "      <td>small</td>\n",
              "    </tr>\n",
              "    <tr>\n",
              "      <th>2</th>\n",
              "      <td>oct</td>\n",
              "      <td>sat</td>\n",
              "      <td>90.6</td>\n",
              "      <td>43.7</td>\n",
              "      <td>686.9</td>\n",
              "      <td>6.7</td>\n",
              "      <td>14.6</td>\n",
              "      <td>33</td>\n",
              "      <td>1.3</td>\n",
              "      <td>0.0</td>\n",
              "      <td>...</td>\n",
              "      <td>0</td>\n",
              "      <td>0</td>\n",
              "      <td>0</td>\n",
              "      <td>0</td>\n",
              "      <td>0</td>\n",
              "      <td>0</td>\n",
              "      <td>0</td>\n",
              "      <td>1</td>\n",
              "      <td>0</td>\n",
              "      <td>small</td>\n",
              "    </tr>\n",
              "    <tr>\n",
              "      <th>3</th>\n",
              "      <td>mar</td>\n",
              "      <td>fri</td>\n",
              "      <td>91.7</td>\n",
              "      <td>33.3</td>\n",
              "      <td>77.5</td>\n",
              "      <td>9.0</td>\n",
              "      <td>8.3</td>\n",
              "      <td>97</td>\n",
              "      <td>4.0</td>\n",
              "      <td>0.2</td>\n",
              "      <td>...</td>\n",
              "      <td>0</td>\n",
              "      <td>0</td>\n",
              "      <td>0</td>\n",
              "      <td>0</td>\n",
              "      <td>1</td>\n",
              "      <td>0</td>\n",
              "      <td>0</td>\n",
              "      <td>0</td>\n",
              "      <td>0</td>\n",
              "      <td>small</td>\n",
              "    </tr>\n",
              "    <tr>\n",
              "      <th>4</th>\n",
              "      <td>mar</td>\n",
              "      <td>sun</td>\n",
              "      <td>89.3</td>\n",
              "      <td>51.3</td>\n",
              "      <td>102.2</td>\n",
              "      <td>9.6</td>\n",
              "      <td>11.4</td>\n",
              "      <td>99</td>\n",
              "      <td>1.8</td>\n",
              "      <td>0.0</td>\n",
              "      <td>...</td>\n",
              "      <td>0</td>\n",
              "      <td>0</td>\n",
              "      <td>0</td>\n",
              "      <td>0</td>\n",
              "      <td>1</td>\n",
              "      <td>0</td>\n",
              "      <td>0</td>\n",
              "      <td>0</td>\n",
              "      <td>0</td>\n",
              "      <td>small</td>\n",
              "    </tr>\n",
              "  </tbody>\n",
              "</table>\n",
              "<p>5 rows × 31 columns</p>\n",
              "</div>\n",
              "      <button class=\"colab-df-convert\" onclick=\"convertToInteractive('df-a3c2a0ba-a5fe-49e7-a738-cb978a1b012b')\"\n",
              "              title=\"Convert this dataframe to an interactive table.\"\n",
              "              style=\"display:none;\">\n",
              "        \n",
              "  <svg xmlns=\"http://www.w3.org/2000/svg\" height=\"24px\"viewBox=\"0 0 24 24\"\n",
              "       width=\"24px\">\n",
              "    <path d=\"M0 0h24v24H0V0z\" fill=\"none\"/>\n",
              "    <path d=\"M18.56 5.44l.94 2.06.94-2.06 2.06-.94-2.06-.94-.94-2.06-.94 2.06-2.06.94zm-11 1L8.5 8.5l.94-2.06 2.06-.94-2.06-.94L8.5 2.5l-.94 2.06-2.06.94zm10 10l.94 2.06.94-2.06 2.06-.94-2.06-.94-.94-2.06-.94 2.06-2.06.94z\"/><path d=\"M17.41 7.96l-1.37-1.37c-.4-.4-.92-.59-1.43-.59-.52 0-1.04.2-1.43.59L10.3 9.45l-7.72 7.72c-.78.78-.78 2.05 0 2.83L4 21.41c.39.39.9.59 1.41.59.51 0 1.02-.2 1.41-.59l7.78-7.78 2.81-2.81c.8-.78.8-2.07 0-2.86zM5.41 20L4 18.59l7.72-7.72 1.47 1.35L5.41 20z\"/>\n",
              "  </svg>\n",
              "      </button>\n",
              "      \n",
              "  <style>\n",
              "    .colab-df-container {\n",
              "      display:flex;\n",
              "      flex-wrap:wrap;\n",
              "      gap: 12px;\n",
              "    }\n",
              "\n",
              "    .colab-df-convert {\n",
              "      background-color: #E8F0FE;\n",
              "      border: none;\n",
              "      border-radius: 50%;\n",
              "      cursor: pointer;\n",
              "      display: none;\n",
              "      fill: #1967D2;\n",
              "      height: 32px;\n",
              "      padding: 0 0 0 0;\n",
              "      width: 32px;\n",
              "    }\n",
              "\n",
              "    .colab-df-convert:hover {\n",
              "      background-color: #E2EBFA;\n",
              "      box-shadow: 0px 1px 2px rgba(60, 64, 67, 0.3), 0px 1px 3px 1px rgba(60, 64, 67, 0.15);\n",
              "      fill: #174EA6;\n",
              "    }\n",
              "\n",
              "    [theme=dark] .colab-df-convert {\n",
              "      background-color: #3B4455;\n",
              "      fill: #D2E3FC;\n",
              "    }\n",
              "\n",
              "    [theme=dark] .colab-df-convert:hover {\n",
              "      background-color: #434B5C;\n",
              "      box-shadow: 0px 1px 3px 1px rgba(0, 0, 0, 0.15);\n",
              "      filter: drop-shadow(0px 1px 2px rgba(0, 0, 0, 0.3));\n",
              "      fill: #FFFFFF;\n",
              "    }\n",
              "  </style>\n",
              "\n",
              "      <script>\n",
              "        const buttonEl =\n",
              "          document.querySelector('#df-a3c2a0ba-a5fe-49e7-a738-cb978a1b012b button.colab-df-convert');\n",
              "        buttonEl.style.display =\n",
              "          google.colab.kernel.accessAllowed ? 'block' : 'none';\n",
              "\n",
              "        async function convertToInteractive(key) {\n",
              "          const element = document.querySelector('#df-a3c2a0ba-a5fe-49e7-a738-cb978a1b012b');\n",
              "          const dataTable =\n",
              "            await google.colab.kernel.invokeFunction('convertToInteractive',\n",
              "                                                     [key], {});\n",
              "          if (!dataTable) return;\n",
              "\n",
              "          const docLinkHtml = 'Like what you see? Visit the ' +\n",
              "            '<a target=\"_blank\" href=https://colab.research.google.com/notebooks/data_table.ipynb>data table notebook</a>'\n",
              "            + ' to learn more about interactive tables.';\n",
              "          element.innerHTML = '';\n",
              "          dataTable['output_type'] = 'display_data';\n",
              "          await google.colab.output.renderOutput(dataTable, element);\n",
              "          const docLink = document.createElement('div');\n",
              "          docLink.innerHTML = docLinkHtml;\n",
              "          element.appendChild(docLink);\n",
              "        }\n",
              "      </script>\n",
              "    </div>\n",
              "  </div>\n",
              "  "
            ]
          },
          "metadata": {},
          "execution_count": 4
        }
      ]
    },
    {
      "cell_type": "code",
      "source": [
        "df= forest.copy() # Removing the dummies at this time\n",
        "df.drop(df.columns[11:30], axis=1, inplace= True)"
      ],
      "metadata": {
        "id": "X-uVAU7TZNfT"
      },
      "execution_count": null,
      "outputs": []
    },
    {
      "cell_type": "code",
      "source": [
        "df.shape"
      ],
      "metadata": {
        "id": "a45uGYXNZNgr",
        "colab": {
          "base_uri": "https://localhost:8080/"
        },
        "outputId": "7d0e5616-9669-4cc2-a00a-70d9af0242d7"
      },
      "execution_count": null,
      "outputs": [
        {
          "output_type": "execute_result",
          "data": {
            "text/plain": [
              "(517, 12)"
            ]
          },
          "metadata": {},
          "execution_count": 6
        }
      ]
    },
    {
      "cell_type": "code",
      "source": [
        "df.head()"
      ],
      "metadata": {
        "id": "jwFJb5yAZNl-",
        "colab": {
          "base_uri": "https://localhost:8080/",
          "height": 206
        },
        "outputId": "7055f686-47f1-46ef-992e-d09356e28391"
      },
      "execution_count": null,
      "outputs": [
        {
          "output_type": "execute_result",
          "data": {
            "text/plain": [
              "  month  day  FFMC   DMC     DC  ISI  temp  RH  wind  rain  area size_category\n",
              "0   mar  fri  86.2  26.2   94.3  5.1   8.2  51   6.7   0.0   0.0         small\n",
              "1   oct  tue  90.6  35.4  669.1  6.7  18.0  33   0.9   0.0   0.0         small\n",
              "2   oct  sat  90.6  43.7  686.9  6.7  14.6  33   1.3   0.0   0.0         small\n",
              "3   mar  fri  91.7  33.3   77.5  9.0   8.3  97   4.0   0.2   0.0         small\n",
              "4   mar  sun  89.3  51.3  102.2  9.6  11.4  99   1.8   0.0   0.0         small"
            ],
            "text/html": [
              "\n",
              "  <div id=\"df-18875ba5-2395-4011-8c54-f87e5b0b412e\">\n",
              "    <div class=\"colab-df-container\">\n",
              "      <div>\n",
              "<style scoped>\n",
              "    .dataframe tbody tr th:only-of-type {\n",
              "        vertical-align: middle;\n",
              "    }\n",
              "\n",
              "    .dataframe tbody tr th {\n",
              "        vertical-align: top;\n",
              "    }\n",
              "\n",
              "    .dataframe thead th {\n",
              "        text-align: right;\n",
              "    }\n",
              "</style>\n",
              "<table border=\"1\" class=\"dataframe\">\n",
              "  <thead>\n",
              "    <tr style=\"text-align: right;\">\n",
              "      <th></th>\n",
              "      <th>month</th>\n",
              "      <th>day</th>\n",
              "      <th>FFMC</th>\n",
              "      <th>DMC</th>\n",
              "      <th>DC</th>\n",
              "      <th>ISI</th>\n",
              "      <th>temp</th>\n",
              "      <th>RH</th>\n",
              "      <th>wind</th>\n",
              "      <th>rain</th>\n",
              "      <th>area</th>\n",
              "      <th>size_category</th>\n",
              "    </tr>\n",
              "  </thead>\n",
              "  <tbody>\n",
              "    <tr>\n",
              "      <th>0</th>\n",
              "      <td>mar</td>\n",
              "      <td>fri</td>\n",
              "      <td>86.2</td>\n",
              "      <td>26.2</td>\n",
              "      <td>94.3</td>\n",
              "      <td>5.1</td>\n",
              "      <td>8.2</td>\n",
              "      <td>51</td>\n",
              "      <td>6.7</td>\n",
              "      <td>0.0</td>\n",
              "      <td>0.0</td>\n",
              "      <td>small</td>\n",
              "    </tr>\n",
              "    <tr>\n",
              "      <th>1</th>\n",
              "      <td>oct</td>\n",
              "      <td>tue</td>\n",
              "      <td>90.6</td>\n",
              "      <td>35.4</td>\n",
              "      <td>669.1</td>\n",
              "      <td>6.7</td>\n",
              "      <td>18.0</td>\n",
              "      <td>33</td>\n",
              "      <td>0.9</td>\n",
              "      <td>0.0</td>\n",
              "      <td>0.0</td>\n",
              "      <td>small</td>\n",
              "    </tr>\n",
              "    <tr>\n",
              "      <th>2</th>\n",
              "      <td>oct</td>\n",
              "      <td>sat</td>\n",
              "      <td>90.6</td>\n",
              "      <td>43.7</td>\n",
              "      <td>686.9</td>\n",
              "      <td>6.7</td>\n",
              "      <td>14.6</td>\n",
              "      <td>33</td>\n",
              "      <td>1.3</td>\n",
              "      <td>0.0</td>\n",
              "      <td>0.0</td>\n",
              "      <td>small</td>\n",
              "    </tr>\n",
              "    <tr>\n",
              "      <th>3</th>\n",
              "      <td>mar</td>\n",
              "      <td>fri</td>\n",
              "      <td>91.7</td>\n",
              "      <td>33.3</td>\n",
              "      <td>77.5</td>\n",
              "      <td>9.0</td>\n",
              "      <td>8.3</td>\n",
              "      <td>97</td>\n",
              "      <td>4.0</td>\n",
              "      <td>0.2</td>\n",
              "      <td>0.0</td>\n",
              "      <td>small</td>\n",
              "    </tr>\n",
              "    <tr>\n",
              "      <th>4</th>\n",
              "      <td>mar</td>\n",
              "      <td>sun</td>\n",
              "      <td>89.3</td>\n",
              "      <td>51.3</td>\n",
              "      <td>102.2</td>\n",
              "      <td>9.6</td>\n",
              "      <td>11.4</td>\n",
              "      <td>99</td>\n",
              "      <td>1.8</td>\n",
              "      <td>0.0</td>\n",
              "      <td>0.0</td>\n",
              "      <td>small</td>\n",
              "    </tr>\n",
              "  </tbody>\n",
              "</table>\n",
              "</div>\n",
              "      <button class=\"colab-df-convert\" onclick=\"convertToInteractive('df-18875ba5-2395-4011-8c54-f87e5b0b412e')\"\n",
              "              title=\"Convert this dataframe to an interactive table.\"\n",
              "              style=\"display:none;\">\n",
              "        \n",
              "  <svg xmlns=\"http://www.w3.org/2000/svg\" height=\"24px\"viewBox=\"0 0 24 24\"\n",
              "       width=\"24px\">\n",
              "    <path d=\"M0 0h24v24H0V0z\" fill=\"none\"/>\n",
              "    <path d=\"M18.56 5.44l.94 2.06.94-2.06 2.06-.94-2.06-.94-.94-2.06-.94 2.06-2.06.94zm-11 1L8.5 8.5l.94-2.06 2.06-.94-2.06-.94L8.5 2.5l-.94 2.06-2.06.94zm10 10l.94 2.06.94-2.06 2.06-.94-2.06-.94-.94-2.06-.94 2.06-2.06.94z\"/><path d=\"M17.41 7.96l-1.37-1.37c-.4-.4-.92-.59-1.43-.59-.52 0-1.04.2-1.43.59L10.3 9.45l-7.72 7.72c-.78.78-.78 2.05 0 2.83L4 21.41c.39.39.9.59 1.41.59.51 0 1.02-.2 1.41-.59l7.78-7.78 2.81-2.81c.8-.78.8-2.07 0-2.86zM5.41 20L4 18.59l7.72-7.72 1.47 1.35L5.41 20z\"/>\n",
              "  </svg>\n",
              "      </button>\n",
              "      \n",
              "  <style>\n",
              "    .colab-df-container {\n",
              "      display:flex;\n",
              "      flex-wrap:wrap;\n",
              "      gap: 12px;\n",
              "    }\n",
              "\n",
              "    .colab-df-convert {\n",
              "      background-color: #E8F0FE;\n",
              "      border: none;\n",
              "      border-radius: 50%;\n",
              "      cursor: pointer;\n",
              "      display: none;\n",
              "      fill: #1967D2;\n",
              "      height: 32px;\n",
              "      padding: 0 0 0 0;\n",
              "      width: 32px;\n",
              "    }\n",
              "\n",
              "    .colab-df-convert:hover {\n",
              "      background-color: #E2EBFA;\n",
              "      box-shadow: 0px 1px 2px rgba(60, 64, 67, 0.3), 0px 1px 3px 1px rgba(60, 64, 67, 0.15);\n",
              "      fill: #174EA6;\n",
              "    }\n",
              "\n",
              "    [theme=dark] .colab-df-convert {\n",
              "      background-color: #3B4455;\n",
              "      fill: #D2E3FC;\n",
              "    }\n",
              "\n",
              "    [theme=dark] .colab-df-convert:hover {\n",
              "      background-color: #434B5C;\n",
              "      box-shadow: 0px 1px 3px 1px rgba(0, 0, 0, 0.15);\n",
              "      filter: drop-shadow(0px 1px 2px rgba(0, 0, 0, 0.3));\n",
              "      fill: #FFFFFF;\n",
              "    }\n",
              "  </style>\n",
              "\n",
              "      <script>\n",
              "        const buttonEl =\n",
              "          document.querySelector('#df-18875ba5-2395-4011-8c54-f87e5b0b412e button.colab-df-convert');\n",
              "        buttonEl.style.display =\n",
              "          google.colab.kernel.accessAllowed ? 'block' : 'none';\n",
              "\n",
              "        async function convertToInteractive(key) {\n",
              "          const element = document.querySelector('#df-18875ba5-2395-4011-8c54-f87e5b0b412e');\n",
              "          const dataTable =\n",
              "            await google.colab.kernel.invokeFunction('convertToInteractive',\n",
              "                                                     [key], {});\n",
              "          if (!dataTable) return;\n",
              "\n",
              "          const docLinkHtml = 'Like what you see? Visit the ' +\n",
              "            '<a target=\"_blank\" href=https://colab.research.google.com/notebooks/data_table.ipynb>data table notebook</a>'\n",
              "            + ' to learn more about interactive tables.';\n",
              "          element.innerHTML = '';\n",
              "          dataTable['output_type'] = 'display_data';\n",
              "          await google.colab.output.renderOutput(dataTable, element);\n",
              "          const docLink = document.createElement('div');\n",
              "          docLink.innerHTML = docLinkHtml;\n",
              "          element.appendChild(docLink);\n",
              "        }\n",
              "      </script>\n",
              "    </div>\n",
              "  </div>\n",
              "  "
            ]
          },
          "metadata": {},
          "execution_count": 7
        }
      ]
    },
    {
      "cell_type": "code",
      "source": [
        "df.info()"
      ],
      "metadata": {
        "id": "XXDckwBAZNn1",
        "colab": {
          "base_uri": "https://localhost:8080/"
        },
        "outputId": "bb92fa5d-46e6-4c96-f1f4-40253a450c8a"
      },
      "execution_count": null,
      "outputs": [
        {
          "output_type": "stream",
          "name": "stdout",
          "text": [
            "<class 'pandas.core.frame.DataFrame'>\n",
            "RangeIndex: 517 entries, 0 to 516\n",
            "Data columns (total 12 columns):\n",
            " #   Column         Non-Null Count  Dtype  \n",
            "---  ------         --------------  -----  \n",
            " 0   month          517 non-null    object \n",
            " 1   day            517 non-null    object \n",
            " 2   FFMC           517 non-null    float64\n",
            " 3   DMC            517 non-null    float64\n",
            " 4   DC             517 non-null    float64\n",
            " 5   ISI            517 non-null    float64\n",
            " 6   temp           517 non-null    float64\n",
            " 7   RH             517 non-null    int64  \n",
            " 8   wind           517 non-null    float64\n",
            " 9   rain           517 non-null    float64\n",
            " 10  area           517 non-null    float64\n",
            " 11  size_category  517 non-null    object \n",
            "dtypes: float64(8), int64(1), object(3)\n",
            "memory usage: 48.6+ KB\n"
          ]
        }
      ]
    },
    {
      "cell_type": "code",
      "source": [
        "df.columns"
      ],
      "metadata": {
        "id": "FJOjbMSQZNtI",
        "colab": {
          "base_uri": "https://localhost:8080/"
        },
        "outputId": "a92e1ee1-d635-44e5-c66d-1cfdb7daf29d"
      },
      "execution_count": null,
      "outputs": [
        {
          "output_type": "execute_result",
          "data": {
            "text/plain": [
              "Index(['month', 'day', 'FFMC', 'DMC', 'DC', 'ISI', 'temp', 'RH', 'wind',\n",
              "       'rain', 'area', 'size_category'],\n",
              "      dtype='object')"
            ]
          },
          "metadata": {},
          "execution_count": 9
        }
      ]
    },
    {
      "cell_type": "code",
      "source": [
        "df.isnull().sum()"
      ],
      "metadata": {
        "id": "pvokRt_lZNzA",
        "colab": {
          "base_uri": "https://localhost:8080/"
        },
        "outputId": "0c941eb6-d427-456e-8da9-06e86e4d4efa"
      },
      "execution_count": null,
      "outputs": [
        {
          "output_type": "execute_result",
          "data": {
            "text/plain": [
              "month            0\n",
              "day              0\n",
              "FFMC             0\n",
              "DMC              0\n",
              "DC               0\n",
              "ISI              0\n",
              "temp             0\n",
              "RH               0\n",
              "wind             0\n",
              "rain             0\n",
              "area             0\n",
              "size_category    0\n",
              "dtype: int64"
            ]
          },
          "metadata": {},
          "execution_count": 10
        }
      ]
    },
    {
      "cell_type": "markdown",
      "source": [
        "# 2. Feature Analysis"
      ],
      "metadata": {
        "id": "0sAQzYxF4RGr"
      }
    },
    {
      "cell_type": "code",
      "source": [
        "df.month.value_counts()"
      ],
      "metadata": {
        "id": "r2g1GMRrZN4E",
        "colab": {
          "base_uri": "https://localhost:8080/"
        },
        "outputId": "7984b769-238a-49d1-90d8-c13f36bf641a"
      },
      "execution_count": null,
      "outputs": [
        {
          "output_type": "execute_result",
          "data": {
            "text/plain": [
              "aug    184\n",
              "sep    172\n",
              "mar     54\n",
              "jul     32\n",
              "feb     20\n",
              "jun     17\n",
              "oct     15\n",
              "apr      9\n",
              "dec      9\n",
              "jan      2\n",
              "may      2\n",
              "nov      1\n",
              "Name: month, dtype: int64"
            ]
          },
          "metadata": {},
          "execution_count": 11
        }
      ]
    },
    {
      "cell_type": "code",
      "source": [
        "# The dataset is biased. Lets remove the bias\n",
        "df.size_category.value_counts()"
      ],
      "metadata": {
        "id": "3ll3m5SaZN59",
        "colab": {
          "base_uri": "https://localhost:8080/"
        },
        "outputId": "0a358186-b67b-4266-afc7-4fbadb725247"
      },
      "execution_count": null,
      "outputs": [
        {
          "output_type": "execute_result",
          "data": {
            "text/plain": [
              "small    378\n",
              "large    139\n",
              "Name: size_category, dtype: int64"
            ]
          },
          "metadata": {},
          "execution_count": 12
        }
      ]
    },
    {
      "cell_type": "markdown",
      "source": [
        "# 3. Label encoding"
      ],
      "metadata": {
        "id": "sgjFSpJI4qHm"
      }
    },
    {
      "cell_type": "code",
      "source": [
        "# We are going to perform label encoding since it is faster than dummy variables\n",
        "\n",
        "from sklearn import preprocessing\n",
        "label_encoder= preprocessing.LabelEncoder()\n",
        "df.month= label_encoder.fit_transform(df.month)\n",
        "df.day= label_encoder.fit_transform(df.day)\n",
        "df.size_category= label_encoder.fit_transform(df.size_category)\n",
        "df.head()"
      ],
      "metadata": {
        "id": "PQQVI4npZN_F",
        "colab": {
          "base_uri": "https://localhost:8080/",
          "height": 206
        },
        "outputId": "813c545b-f1a7-408d-bc53-121c6b7d0e52"
      },
      "execution_count": null,
      "outputs": [
        {
          "output_type": "execute_result",
          "data": {
            "text/plain": [
              "   month  day  FFMC   DMC     DC  ISI  temp  RH  wind  rain  area  \\\n",
              "0      7    0  86.2  26.2   94.3  5.1   8.2  51   6.7   0.0   0.0   \n",
              "1     10    5  90.6  35.4  669.1  6.7  18.0  33   0.9   0.0   0.0   \n",
              "2     10    2  90.6  43.7  686.9  6.7  14.6  33   1.3   0.0   0.0   \n",
              "3      7    0  91.7  33.3   77.5  9.0   8.3  97   4.0   0.2   0.0   \n",
              "4      7    3  89.3  51.3  102.2  9.6  11.4  99   1.8   0.0   0.0   \n",
              "\n",
              "   size_category  \n",
              "0              1  \n",
              "1              1  \n",
              "2              1  \n",
              "3              1  \n",
              "4              1  "
            ],
            "text/html": [
              "\n",
              "  <div id=\"df-81305268-2860-480f-8914-2f6de9a19d3a\">\n",
              "    <div class=\"colab-df-container\">\n",
              "      <div>\n",
              "<style scoped>\n",
              "    .dataframe tbody tr th:only-of-type {\n",
              "        vertical-align: middle;\n",
              "    }\n",
              "\n",
              "    .dataframe tbody tr th {\n",
              "        vertical-align: top;\n",
              "    }\n",
              "\n",
              "    .dataframe thead th {\n",
              "        text-align: right;\n",
              "    }\n",
              "</style>\n",
              "<table border=\"1\" class=\"dataframe\">\n",
              "  <thead>\n",
              "    <tr style=\"text-align: right;\">\n",
              "      <th></th>\n",
              "      <th>month</th>\n",
              "      <th>day</th>\n",
              "      <th>FFMC</th>\n",
              "      <th>DMC</th>\n",
              "      <th>DC</th>\n",
              "      <th>ISI</th>\n",
              "      <th>temp</th>\n",
              "      <th>RH</th>\n",
              "      <th>wind</th>\n",
              "      <th>rain</th>\n",
              "      <th>area</th>\n",
              "      <th>size_category</th>\n",
              "    </tr>\n",
              "  </thead>\n",
              "  <tbody>\n",
              "    <tr>\n",
              "      <th>0</th>\n",
              "      <td>7</td>\n",
              "      <td>0</td>\n",
              "      <td>86.2</td>\n",
              "      <td>26.2</td>\n",
              "      <td>94.3</td>\n",
              "      <td>5.1</td>\n",
              "      <td>8.2</td>\n",
              "      <td>51</td>\n",
              "      <td>6.7</td>\n",
              "      <td>0.0</td>\n",
              "      <td>0.0</td>\n",
              "      <td>1</td>\n",
              "    </tr>\n",
              "    <tr>\n",
              "      <th>1</th>\n",
              "      <td>10</td>\n",
              "      <td>5</td>\n",
              "      <td>90.6</td>\n",
              "      <td>35.4</td>\n",
              "      <td>669.1</td>\n",
              "      <td>6.7</td>\n",
              "      <td>18.0</td>\n",
              "      <td>33</td>\n",
              "      <td>0.9</td>\n",
              "      <td>0.0</td>\n",
              "      <td>0.0</td>\n",
              "      <td>1</td>\n",
              "    </tr>\n",
              "    <tr>\n",
              "      <th>2</th>\n",
              "      <td>10</td>\n",
              "      <td>2</td>\n",
              "      <td>90.6</td>\n",
              "      <td>43.7</td>\n",
              "      <td>686.9</td>\n",
              "      <td>6.7</td>\n",
              "      <td>14.6</td>\n",
              "      <td>33</td>\n",
              "      <td>1.3</td>\n",
              "      <td>0.0</td>\n",
              "      <td>0.0</td>\n",
              "      <td>1</td>\n",
              "    </tr>\n",
              "    <tr>\n",
              "      <th>3</th>\n",
              "      <td>7</td>\n",
              "      <td>0</td>\n",
              "      <td>91.7</td>\n",
              "      <td>33.3</td>\n",
              "      <td>77.5</td>\n",
              "      <td>9.0</td>\n",
              "      <td>8.3</td>\n",
              "      <td>97</td>\n",
              "      <td>4.0</td>\n",
              "      <td>0.2</td>\n",
              "      <td>0.0</td>\n",
              "      <td>1</td>\n",
              "    </tr>\n",
              "    <tr>\n",
              "      <th>4</th>\n",
              "      <td>7</td>\n",
              "      <td>3</td>\n",
              "      <td>89.3</td>\n",
              "      <td>51.3</td>\n",
              "      <td>102.2</td>\n",
              "      <td>9.6</td>\n",
              "      <td>11.4</td>\n",
              "      <td>99</td>\n",
              "      <td>1.8</td>\n",
              "      <td>0.0</td>\n",
              "      <td>0.0</td>\n",
              "      <td>1</td>\n",
              "    </tr>\n",
              "  </tbody>\n",
              "</table>\n",
              "</div>\n",
              "      <button class=\"colab-df-convert\" onclick=\"convertToInteractive('df-81305268-2860-480f-8914-2f6de9a19d3a')\"\n",
              "              title=\"Convert this dataframe to an interactive table.\"\n",
              "              style=\"display:none;\">\n",
              "        \n",
              "  <svg xmlns=\"http://www.w3.org/2000/svg\" height=\"24px\"viewBox=\"0 0 24 24\"\n",
              "       width=\"24px\">\n",
              "    <path d=\"M0 0h24v24H0V0z\" fill=\"none\"/>\n",
              "    <path d=\"M18.56 5.44l.94 2.06.94-2.06 2.06-.94-2.06-.94-.94-2.06-.94 2.06-2.06.94zm-11 1L8.5 8.5l.94-2.06 2.06-.94-2.06-.94L8.5 2.5l-.94 2.06-2.06.94zm10 10l.94 2.06.94-2.06 2.06-.94-2.06-.94-.94-2.06-.94 2.06-2.06.94z\"/><path d=\"M17.41 7.96l-1.37-1.37c-.4-.4-.92-.59-1.43-.59-.52 0-1.04.2-1.43.59L10.3 9.45l-7.72 7.72c-.78.78-.78 2.05 0 2.83L4 21.41c.39.39.9.59 1.41.59.51 0 1.02-.2 1.41-.59l7.78-7.78 2.81-2.81c.8-.78.8-2.07 0-2.86zM5.41 20L4 18.59l7.72-7.72 1.47 1.35L5.41 20z\"/>\n",
              "  </svg>\n",
              "      </button>\n",
              "      \n",
              "  <style>\n",
              "    .colab-df-container {\n",
              "      display:flex;\n",
              "      flex-wrap:wrap;\n",
              "      gap: 12px;\n",
              "    }\n",
              "\n",
              "    .colab-df-convert {\n",
              "      background-color: #E8F0FE;\n",
              "      border: none;\n",
              "      border-radius: 50%;\n",
              "      cursor: pointer;\n",
              "      display: none;\n",
              "      fill: #1967D2;\n",
              "      height: 32px;\n",
              "      padding: 0 0 0 0;\n",
              "      width: 32px;\n",
              "    }\n",
              "\n",
              "    .colab-df-convert:hover {\n",
              "      background-color: #E2EBFA;\n",
              "      box-shadow: 0px 1px 2px rgba(60, 64, 67, 0.3), 0px 1px 3px 1px rgba(60, 64, 67, 0.15);\n",
              "      fill: #174EA6;\n",
              "    }\n",
              "\n",
              "    [theme=dark] .colab-df-convert {\n",
              "      background-color: #3B4455;\n",
              "      fill: #D2E3FC;\n",
              "    }\n",
              "\n",
              "    [theme=dark] .colab-df-convert:hover {\n",
              "      background-color: #434B5C;\n",
              "      box-shadow: 0px 1px 3px 1px rgba(0, 0, 0, 0.15);\n",
              "      filter: drop-shadow(0px 1px 2px rgba(0, 0, 0, 0.3));\n",
              "      fill: #FFFFFF;\n",
              "    }\n",
              "  </style>\n",
              "\n",
              "      <script>\n",
              "        const buttonEl =\n",
              "          document.querySelector('#df-81305268-2860-480f-8914-2f6de9a19d3a button.colab-df-convert');\n",
              "        buttonEl.style.display =\n",
              "          google.colab.kernel.accessAllowed ? 'block' : 'none';\n",
              "\n",
              "        async function convertToInteractive(key) {\n",
              "          const element = document.querySelector('#df-81305268-2860-480f-8914-2f6de9a19d3a');\n",
              "          const dataTable =\n",
              "            await google.colab.kernel.invokeFunction('convertToInteractive',\n",
              "                                                     [key], {});\n",
              "          if (!dataTable) return;\n",
              "\n",
              "          const docLinkHtml = 'Like what you see? Visit the ' +\n",
              "            '<a target=\"_blank\" href=https://colab.research.google.com/notebooks/data_table.ipynb>data table notebook</a>'\n",
              "            + ' to learn more about interactive tables.';\n",
              "          element.innerHTML = '';\n",
              "          dataTable['output_type'] = 'display_data';\n",
              "          await google.colab.output.renderOutput(dataTable, element);\n",
              "          const docLink = document.createElement('div');\n",
              "          docLink.innerHTML = docLinkHtml;\n",
              "          element.appendChild(docLink);\n",
              "        }\n",
              "      </script>\n",
              "    </div>\n",
              "  </div>\n",
              "  "
            ]
          },
          "metadata": {},
          "execution_count": 13
        }
      ]
    },
    {
      "cell_type": "markdown",
      "source": [
        "# 4. Removing Bias in the Dataset"
      ],
      "metadata": {
        "id": "X4d3iPCv5zd5"
      }
    },
    {
      "cell_type": "code",
      "source": [
        "from imblearn.combine import SMOTETomek\n",
        "from collections import Counter\n",
        "\n",
        "resamp= df.copy()\n",
        "# SMOKET TECHNIQUE\n",
        "\n",
        "# Define dataset\n",
        "a= resamp.iloc[:,:-1]\n",
        "b= resamp.iloc[:,-1]\n",
        "\n",
        "# Count before\n",
        "print(Counter(b))\n",
        "\n",
        "smt= SMOTETomek(sampling_strategy='auto')\n",
        "a,b= smt.fit_resample(a,b)\n",
        "\n",
        "# Count after\n",
        "print(Counter(b)) #removed bias in dataset"
      ],
      "metadata": {
        "id": "GwhOV9hVZOBk",
        "colab": {
          "base_uri": "https://localhost:8080/"
        },
        "outputId": "12675cec-bce3-4d6b-a757-c0f70c00c203"
      },
      "execution_count": null,
      "outputs": [
        {
          "output_type": "stream",
          "name": "stdout",
          "text": [
            "Counter({1: 378, 0: 139})\n",
            "Counter({1: 371, 0: 371})\n"
          ]
        }
      ]
    },
    {
      "cell_type": "markdown",
      "source": [
        "# Train-Test split dataset"
      ],
      "metadata": {
        "id": "1luixZcN7Waj"
      }
    },
    {
      "cell_type": "code",
      "source": [
        "X= a\n",
        "Y= b\n",
        "X_train, X_test, y_train, y_test= train_test_split(X,Y, test_size= 0.3)"
      ],
      "metadata": {
        "id": "W4qvtbP2ZOF0"
      },
      "execution_count": null,
      "outputs": []
    },
    {
      "cell_type": "markdown",
      "source": [
        "# 5. Neural Network Modeling\n",
        "## Building the model"
      ],
      "metadata": {
        "id": "Q_aCjmq-Zdit"
      }
    },
    {
      "cell_type": "code",
      "source": [
        "# create model\n",
        "model= Sequential()\n",
        "model.add(Dense(14, input_dim= 11, kernel_initializer= 'uniform', activation= 'relu'))\n",
        "model.add(Dense(12, kernel_initializer= 'uniform', activation= 'relu'))\n",
        "model.add(Dense(1, kernel_initializer= 'uniform', activation= 'sigmoid'))\n",
        "\n",
        "# Compile model\n",
        "model.compile(loss= 'binary_crossentropy', optimizer= 'adam', metrics= ['accuracy'])\n",
        "\n",
        "# Fit the model\n",
        "hist= model.fit(X_train, y_train, validation_split= 0.33, epochs= 50, batch_size= 10)\n"
      ],
      "metadata": {
        "id": "pnPrfRvmZOHi",
        "colab": {
          "base_uri": "https://localhost:8080/"
        },
        "outputId": "d9be30dd-71ac-4739-e34a-74263244a6dd"
      },
      "execution_count": null,
      "outputs": [
        {
          "output_type": "stream",
          "name": "stdout",
          "text": [
            "Epoch 1/50\n",
            "35/35 [==============================] - 2s 12ms/step - loss: 0.6920 - accuracy: 0.5101 - val_loss: 0.6886 - val_accuracy: 0.5349\n",
            "Epoch 2/50\n",
            "35/35 [==============================] - 0s 5ms/step - loss: 0.6866 - accuracy: 0.6254 - val_loss: 0.6816 - val_accuracy: 0.5465\n",
            "Epoch 3/50\n",
            "35/35 [==============================] - 0s 4ms/step - loss: 0.6620 - accuracy: 0.6340 - val_loss: 0.6210 - val_accuracy: 0.7035\n",
            "Epoch 4/50\n",
            "35/35 [==============================] - 0s 5ms/step - loss: 0.5832 - accuracy: 0.7233 - val_loss: 0.4849 - val_accuracy: 0.7674\n",
            "Epoch 5/50\n",
            "35/35 [==============================] - 0s 4ms/step - loss: 0.4275 - accuracy: 0.8588 - val_loss: 0.3355 - val_accuracy: 0.8895\n",
            "Epoch 6/50\n",
            "35/35 [==============================] - 0s 5ms/step - loss: 0.2984 - accuracy: 0.9193 - val_loss: 0.2268 - val_accuracy: 0.9535\n",
            "Epoch 7/50\n",
            "35/35 [==============================] - 0s 4ms/step - loss: 0.2130 - accuracy: 0.9424 - val_loss: 0.2340 - val_accuracy: 0.8779\n",
            "Epoch 8/50\n",
            "35/35 [==============================] - 0s 6ms/step - loss: 0.1676 - accuracy: 0.9366 - val_loss: 0.1250 - val_accuracy: 0.9884\n",
            "Epoch 9/50\n",
            "35/35 [==============================] - 0s 4ms/step - loss: 0.1251 - accuracy: 0.9712 - val_loss: 0.0893 - val_accuracy: 1.0000\n",
            "Epoch 10/50\n",
            "35/35 [==============================] - 0s 5ms/step - loss: 0.1313 - accuracy: 0.9597 - val_loss: 0.0811 - val_accuracy: 0.9942\n",
            "Epoch 11/50\n",
            "35/35 [==============================] - 0s 5ms/step - loss: 0.0958 - accuracy: 0.9712 - val_loss: 0.1470 - val_accuracy: 0.9244\n",
            "Epoch 12/50\n",
            "35/35 [==============================] - 0s 5ms/step - loss: 0.0799 - accuracy: 0.9798 - val_loss: 0.0722 - val_accuracy: 0.9884\n",
            "Epoch 13/50\n",
            "35/35 [==============================] - 0s 4ms/step - loss: 0.1138 - accuracy: 0.9654 - val_loss: 0.0514 - val_accuracy: 0.9884\n",
            "Epoch 14/50\n",
            "35/35 [==============================] - 0s 5ms/step - loss: 0.0977 - accuracy: 0.9683 - val_loss: 0.0441 - val_accuracy: 0.9942\n",
            "Epoch 15/50\n",
            "35/35 [==============================] - 0s 4ms/step - loss: 0.0546 - accuracy: 0.9827 - val_loss: 0.0604 - val_accuracy: 0.9709\n",
            "Epoch 16/50\n",
            "35/35 [==============================] - 0s 4ms/step - loss: 0.0521 - accuracy: 0.9914 - val_loss: 0.0501 - val_accuracy: 0.9884\n",
            "Epoch 17/50\n",
            "35/35 [==============================] - 0s 5ms/step - loss: 0.0487 - accuracy: 0.9856 - val_loss: 0.0364 - val_accuracy: 0.9942\n",
            "Epoch 18/50\n",
            "35/35 [==============================] - 0s 4ms/step - loss: 0.0560 - accuracy: 0.9741 - val_loss: 0.0356 - val_accuracy: 0.9884\n",
            "Epoch 19/50\n",
            "35/35 [==============================] - 0s 4ms/step - loss: 0.0494 - accuracy: 0.9827 - val_loss: 0.0335 - val_accuracy: 0.9942\n",
            "Epoch 20/50\n",
            "35/35 [==============================] - 0s 5ms/step - loss: 0.0394 - accuracy: 0.9914 - val_loss: 0.0366 - val_accuracy: 0.9884\n",
            "Epoch 21/50\n",
            "35/35 [==============================] - 0s 4ms/step - loss: 0.0661 - accuracy: 0.9654 - val_loss: 0.0436 - val_accuracy: 0.9826\n",
            "Epoch 22/50\n",
            "35/35 [==============================] - 0s 5ms/step - loss: 0.0430 - accuracy: 0.9856 - val_loss: 0.0655 - val_accuracy: 0.9709\n",
            "Epoch 23/50\n",
            "35/35 [==============================] - 0s 5ms/step - loss: 0.0486 - accuracy: 0.9798 - val_loss: 0.0643 - val_accuracy: 0.9651\n",
            "Epoch 24/50\n",
            "35/35 [==============================] - 0s 5ms/step - loss: 0.0873 - accuracy: 0.9568 - val_loss: 0.0280 - val_accuracy: 0.9942\n",
            "Epoch 25/50\n",
            "35/35 [==============================] - 0s 5ms/step - loss: 0.0414 - accuracy: 0.9856 - val_loss: 0.0343 - val_accuracy: 0.9884\n",
            "Epoch 26/50\n",
            "35/35 [==============================] - 0s 5ms/step - loss: 0.0811 - accuracy: 0.9597 - val_loss: 0.0862 - val_accuracy: 0.9535\n",
            "Epoch 27/50\n",
            "35/35 [==============================] - 0s 4ms/step - loss: 0.0547 - accuracy: 0.9827 - val_loss: 0.0413 - val_accuracy: 0.9709\n",
            "Epoch 28/50\n",
            "35/35 [==============================] - 0s 5ms/step - loss: 0.0385 - accuracy: 0.9885 - val_loss: 0.0417 - val_accuracy: 0.9826\n",
            "Epoch 29/50\n",
            "35/35 [==============================] - 0s 5ms/step - loss: 0.0467 - accuracy: 0.9769 - val_loss: 0.0259 - val_accuracy: 0.9942\n",
            "Epoch 30/50\n",
            "35/35 [==============================] - 0s 5ms/step - loss: 0.0285 - accuracy: 0.9942 - val_loss: 0.0330 - val_accuracy: 0.9884\n",
            "Epoch 31/50\n",
            "35/35 [==============================] - 0s 5ms/step - loss: 0.0283 - accuracy: 0.9885 - val_loss: 0.0242 - val_accuracy: 0.9942\n",
            "Epoch 32/50\n",
            "35/35 [==============================] - 0s 4ms/step - loss: 0.0275 - accuracy: 0.9942 - val_loss: 0.0267 - val_accuracy: 0.9884\n",
            "Epoch 33/50\n",
            "35/35 [==============================] - 0s 4ms/step - loss: 0.0640 - accuracy: 0.9654 - val_loss: 0.0651 - val_accuracy: 0.9593\n",
            "Epoch 34/50\n",
            "35/35 [==============================] - 0s 4ms/step - loss: 0.0433 - accuracy: 0.9769 - val_loss: 0.1633 - val_accuracy: 0.9360\n",
            "Epoch 35/50\n",
            "35/35 [==============================] - 0s 5ms/step - loss: 0.0566 - accuracy: 0.9798 - val_loss: 0.0308 - val_accuracy: 0.9884\n",
            "Epoch 36/50\n",
            "35/35 [==============================] - 0s 5ms/step - loss: 0.0574 - accuracy: 0.9769 - val_loss: 0.0525 - val_accuracy: 0.9767\n",
            "Epoch 37/50\n",
            "35/35 [==============================] - 0s 5ms/step - loss: 0.0670 - accuracy: 0.9769 - val_loss: 0.0283 - val_accuracy: 0.9884\n",
            "Epoch 38/50\n",
            "35/35 [==============================] - 0s 5ms/step - loss: 0.0266 - accuracy: 0.9942 - val_loss: 0.0780 - val_accuracy: 0.9535\n",
            "Epoch 39/50\n",
            "35/35 [==============================] - 0s 5ms/step - loss: 0.0468 - accuracy: 0.9769 - val_loss: 0.0289 - val_accuracy: 0.9884\n",
            "Epoch 40/50\n",
            "35/35 [==============================] - 0s 5ms/step - loss: 0.0291 - accuracy: 0.9914 - val_loss: 0.0282 - val_accuracy: 0.9884\n",
            "Epoch 41/50\n",
            "35/35 [==============================] - 0s 7ms/step - loss: 0.0410 - accuracy: 0.9856 - val_loss: 0.0240 - val_accuracy: 0.9942\n",
            "Epoch 42/50\n",
            "35/35 [==============================] - 0s 7ms/step - loss: 0.0401 - accuracy: 0.9798 - val_loss: 0.0280 - val_accuracy: 0.9942\n",
            "Epoch 43/50\n",
            "35/35 [==============================] - 0s 6ms/step - loss: 0.0337 - accuracy: 0.9798 - val_loss: 0.0237 - val_accuracy: 0.9884\n",
            "Epoch 44/50\n",
            "35/35 [==============================] - 0s 6ms/step - loss: 0.0709 - accuracy: 0.9769 - val_loss: 0.0365 - val_accuracy: 0.9826\n",
            "Epoch 45/50\n",
            "35/35 [==============================] - 0s 6ms/step - loss: 0.0257 - accuracy: 0.9914 - val_loss: 0.0276 - val_accuracy: 0.9884\n",
            "Epoch 46/50\n",
            "35/35 [==============================] - 0s 6ms/step - loss: 0.0831 - accuracy: 0.9712 - val_loss: 0.0416 - val_accuracy: 0.9709\n",
            "Epoch 47/50\n",
            "35/35 [==============================] - 0s 6ms/step - loss: 0.0292 - accuracy: 0.9914 - val_loss: 0.0266 - val_accuracy: 0.9884\n",
            "Epoch 48/50\n",
            "35/35 [==============================] - 0s 7ms/step - loss: 0.0250 - accuracy: 0.9914 - val_loss: 0.0218 - val_accuracy: 0.9942\n",
            "Epoch 49/50\n",
            "35/35 [==============================] - 0s 7ms/step - loss: 0.0230 - accuracy: 0.9914 - val_loss: 0.0269 - val_accuracy: 0.9884\n",
            "Epoch 50/50\n",
            "35/35 [==============================] - 0s 7ms/step - loss: 0.0249 - accuracy: 0.9914 - val_loss: 0.0233 - val_accuracy: 0.9942\n"
          ]
        }
      ]
    },
    {
      "cell_type": "markdown",
      "source": [
        "# 6. Model Evaluation"
      ],
      "metadata": {
        "id": "RUJZ-XNPawRm"
      }
    },
    {
      "cell_type": "code",
      "source": [
        "test_loss, test_acc= model.evaluate(X_test, y_test)"
      ],
      "metadata": {
        "id": "EAP6gIamZOMq",
        "colab": {
          "base_uri": "https://localhost:8080/"
        },
        "outputId": "1b2b39f1-5913-4e5e-bb7b-94f06ec9f941"
      },
      "execution_count": null,
      "outputs": [
        {
          "output_type": "stream",
          "name": "stdout",
          "text": [
            "7/7 [==============================] - 0s 4ms/step - loss: 0.0470 - accuracy: 0.9776\n"
          ]
        }
      ]
    },
    {
      "cell_type": "code",
      "source": [
        "print(hist.history.keys())"
      ],
      "metadata": {
        "id": "rIbx8UU2ZOOO",
        "colab": {
          "base_uri": "https://localhost:8080/"
        },
        "outputId": "83b6d39f-a0b0-446c-cf9a-9d9f489110e3"
      },
      "execution_count": null,
      "outputs": [
        {
          "output_type": "stream",
          "name": "stdout",
          "text": [
            "dict_keys(['loss', 'accuracy', 'val_loss', 'val_accuracy'])\n"
          ]
        }
      ]
    },
    {
      "cell_type": "code",
      "source": [
        "hist_df= pd.DataFrame(hist.history)\n",
        "hist_df['epoch']= hist.epoch\n",
        "hist_df.tail()"
      ],
      "metadata": {
        "id": "Gy9FRmH4ZOT5",
        "colab": {
          "base_uri": "https://localhost:8080/",
          "height": 206
        },
        "outputId": "caf0f42c-5240-40ff-eb7e-e0b27b8e9937"
      },
      "execution_count": null,
      "outputs": [
        {
          "output_type": "execute_result",
          "data": {
            "text/plain": [
              "        loss  accuracy  val_loss  val_accuracy  epoch\n",
              "45  0.083135  0.971182  0.041644      0.970930     45\n",
              "46  0.029246  0.991354  0.026640      0.988372     46\n",
              "47  0.024990  0.991354  0.021812      0.994186     47\n",
              "48  0.022987  0.991354  0.026863      0.988372     48\n",
              "49  0.024946  0.991354  0.023300      0.994186     49"
            ],
            "text/html": [
              "\n",
              "  <div id=\"df-e5f1326f-4cd5-4a2e-9cf3-6bf3c4055576\">\n",
              "    <div class=\"colab-df-container\">\n",
              "      <div>\n",
              "<style scoped>\n",
              "    .dataframe tbody tr th:only-of-type {\n",
              "        vertical-align: middle;\n",
              "    }\n",
              "\n",
              "    .dataframe tbody tr th {\n",
              "        vertical-align: top;\n",
              "    }\n",
              "\n",
              "    .dataframe thead th {\n",
              "        text-align: right;\n",
              "    }\n",
              "</style>\n",
              "<table border=\"1\" class=\"dataframe\">\n",
              "  <thead>\n",
              "    <tr style=\"text-align: right;\">\n",
              "      <th></th>\n",
              "      <th>loss</th>\n",
              "      <th>accuracy</th>\n",
              "      <th>val_loss</th>\n",
              "      <th>val_accuracy</th>\n",
              "      <th>epoch</th>\n",
              "    </tr>\n",
              "  </thead>\n",
              "  <tbody>\n",
              "    <tr>\n",
              "      <th>45</th>\n",
              "      <td>0.083135</td>\n",
              "      <td>0.971182</td>\n",
              "      <td>0.041644</td>\n",
              "      <td>0.970930</td>\n",
              "      <td>45</td>\n",
              "    </tr>\n",
              "    <tr>\n",
              "      <th>46</th>\n",
              "      <td>0.029246</td>\n",
              "      <td>0.991354</td>\n",
              "      <td>0.026640</td>\n",
              "      <td>0.988372</td>\n",
              "      <td>46</td>\n",
              "    </tr>\n",
              "    <tr>\n",
              "      <th>47</th>\n",
              "      <td>0.024990</td>\n",
              "      <td>0.991354</td>\n",
              "      <td>0.021812</td>\n",
              "      <td>0.994186</td>\n",
              "      <td>47</td>\n",
              "    </tr>\n",
              "    <tr>\n",
              "      <th>48</th>\n",
              "      <td>0.022987</td>\n",
              "      <td>0.991354</td>\n",
              "      <td>0.026863</td>\n",
              "      <td>0.988372</td>\n",
              "      <td>48</td>\n",
              "    </tr>\n",
              "    <tr>\n",
              "      <th>49</th>\n",
              "      <td>0.024946</td>\n",
              "      <td>0.991354</td>\n",
              "      <td>0.023300</td>\n",
              "      <td>0.994186</td>\n",
              "      <td>49</td>\n",
              "    </tr>\n",
              "  </tbody>\n",
              "</table>\n",
              "</div>\n",
              "      <button class=\"colab-df-convert\" onclick=\"convertToInteractive('df-e5f1326f-4cd5-4a2e-9cf3-6bf3c4055576')\"\n",
              "              title=\"Convert this dataframe to an interactive table.\"\n",
              "              style=\"display:none;\">\n",
              "        \n",
              "  <svg xmlns=\"http://www.w3.org/2000/svg\" height=\"24px\"viewBox=\"0 0 24 24\"\n",
              "       width=\"24px\">\n",
              "    <path d=\"M0 0h24v24H0V0z\" fill=\"none\"/>\n",
              "    <path d=\"M18.56 5.44l.94 2.06.94-2.06 2.06-.94-2.06-.94-.94-2.06-.94 2.06-2.06.94zm-11 1L8.5 8.5l.94-2.06 2.06-.94-2.06-.94L8.5 2.5l-.94 2.06-2.06.94zm10 10l.94 2.06.94-2.06 2.06-.94-2.06-.94-.94-2.06-.94 2.06-2.06.94z\"/><path d=\"M17.41 7.96l-1.37-1.37c-.4-.4-.92-.59-1.43-.59-.52 0-1.04.2-1.43.59L10.3 9.45l-7.72 7.72c-.78.78-.78 2.05 0 2.83L4 21.41c.39.39.9.59 1.41.59.51 0 1.02-.2 1.41-.59l7.78-7.78 2.81-2.81c.8-.78.8-2.07 0-2.86zM5.41 20L4 18.59l7.72-7.72 1.47 1.35L5.41 20z\"/>\n",
              "  </svg>\n",
              "      </button>\n",
              "      \n",
              "  <style>\n",
              "    .colab-df-container {\n",
              "      display:flex;\n",
              "      flex-wrap:wrap;\n",
              "      gap: 12px;\n",
              "    }\n",
              "\n",
              "    .colab-df-convert {\n",
              "      background-color: #E8F0FE;\n",
              "      border: none;\n",
              "      border-radius: 50%;\n",
              "      cursor: pointer;\n",
              "      display: none;\n",
              "      fill: #1967D2;\n",
              "      height: 32px;\n",
              "      padding: 0 0 0 0;\n",
              "      width: 32px;\n",
              "    }\n",
              "\n",
              "    .colab-df-convert:hover {\n",
              "      background-color: #E2EBFA;\n",
              "      box-shadow: 0px 1px 2px rgba(60, 64, 67, 0.3), 0px 1px 3px 1px rgba(60, 64, 67, 0.15);\n",
              "      fill: #174EA6;\n",
              "    }\n",
              "\n",
              "    [theme=dark] .colab-df-convert {\n",
              "      background-color: #3B4455;\n",
              "      fill: #D2E3FC;\n",
              "    }\n",
              "\n",
              "    [theme=dark] .colab-df-convert:hover {\n",
              "      background-color: #434B5C;\n",
              "      box-shadow: 0px 1px 3px 1px rgba(0, 0, 0, 0.15);\n",
              "      filter: drop-shadow(0px 1px 2px rgba(0, 0, 0, 0.3));\n",
              "      fill: #FFFFFF;\n",
              "    }\n",
              "  </style>\n",
              "\n",
              "      <script>\n",
              "        const buttonEl =\n",
              "          document.querySelector('#df-e5f1326f-4cd5-4a2e-9cf3-6bf3c4055576 button.colab-df-convert');\n",
              "        buttonEl.style.display =\n",
              "          google.colab.kernel.accessAllowed ? 'block' : 'none';\n",
              "\n",
              "        async function convertToInteractive(key) {\n",
              "          const element = document.querySelector('#df-e5f1326f-4cd5-4a2e-9cf3-6bf3c4055576');\n",
              "          const dataTable =\n",
              "            await google.colab.kernel.invokeFunction('convertToInteractive',\n",
              "                                                     [key], {});\n",
              "          if (!dataTable) return;\n",
              "\n",
              "          const docLinkHtml = 'Like what you see? Visit the ' +\n",
              "            '<a target=\"_blank\" href=https://colab.research.google.com/notebooks/data_table.ipynb>data table notebook</a>'\n",
              "            + ' to learn more about interactive tables.';\n",
              "          element.innerHTML = '';\n",
              "          dataTable['output_type'] = 'display_data';\n",
              "          await google.colab.output.renderOutput(dataTable, element);\n",
              "          const docLink = document.createElement('div');\n",
              "          docLink.innerHTML = docLinkHtml;\n",
              "          element.appendChild(docLink);\n",
              "        }\n",
              "      </script>\n",
              "    </div>\n",
              "  </div>\n",
              "  "
            ]
          },
          "metadata": {},
          "execution_count": 19
        }
      ]
    },
    {
      "cell_type": "markdown",
      "source": [
        "# 7. Visualize Training History"
      ],
      "metadata": {
        "id": "EwcB3haRb_17"
      }
    },
    {
      "cell_type": "code",
      "source": [
        "# summarize history for accuracy\n",
        "plt.plot(hist.history['accuracy'])\n",
        "plt.plot(hist.history['val_accuracy'])\n",
        "plt.title('model_accuracy')\n",
        "plt.ylabel('accuracy')\n",
        "plt.xlabel('epoch')\n",
        "plt.legend(['trian', 'test'], loc='upper left')\n",
        "plt.show()"
      ],
      "metadata": {
        "id": "VpP_baTrZOVW",
        "colab": {
          "base_uri": "https://localhost:8080/",
          "height": 295
        },
        "outputId": "2f4ba206-9d19-470e-ccdc-fcbbf30b88ab"
      },
      "execution_count": null,
      "outputs": [
        {
          "output_type": "display_data",
          "data": {
            "text/plain": [
              "<Figure size 432x288 with 1 Axes>"
            ],
            "image/png": "[encoded data removed]"
          },
          "metadata": {
            "needs_background": "light"
          }
        }
      ]
    },
    {
      "cell_type": "markdown",
      "source": [
        "# 8. Tuning of Hyperparameters: Batch Size & Epochs"
      ],
      "metadata": {
        "id": "2wYsD5rhd32f"
      }
    },
    {
      "cell_type": "code",
      "source": [
        "# Importing the necessary packages\n",
        "from sklearn.model_selection import GridSearchCV, KFold\n",
        "from keras.models import Sequential\n",
        "from keras.layers import Dense\n",
        "from keras.wrappers.scikit_learn import KerasClassifier\n",
        "from keras.optimizers import Adam"
      ],
      "metadata": {
        "id": "QE96QnohZOa-"
      },
      "execution_count": null,
      "outputs": []
    },
    {
      "cell_type": "code",
      "source": [
        "# creat model\n",
        "def create_model():\n",
        "  model= Sequential()\n",
        "  model.add(Dense(12, input_dim= 8, kernel_initializer= 'uniform', activation= 'relu'))\n",
        "  model.add(Dense(8, kernel_initializer= 'uniform', activation= 'relu'))\n",
        "  model.add(Dense(1, kernel_initializer='uniform', activation= 'sigmoid'))\n",
        "\n",
        "  adam= Adam(lr= 0.01)\n",
        "  model.compile(loss= 'binary_crossentropy', optimizer= adam, metrics= ['accuracy'])\n",
        "  return model"
      ],
      "metadata": {
        "id": "rttVqKG7ZOcc"
      },
      "execution_count": null,
      "outputs": []
    },
    {
      "cell_type": "code",
      "source": [
        "from sklearn.preprocessing import StandardScaler\n",
        "a= StandardScaler()\n",
        "a.fit(X)\n",
        "X_standardized= a.transform(X)"
      ],
      "metadata": {
        "id": "CkpTdzT9ZOhx"
      },
      "execution_count": null,
      "outputs": []
    },
    {
      "cell_type": "markdown",
      "source": [
        "# 9. Tuning of Hyperparameters: Learning rate & Drop out rate "
      ],
      "metadata": {
        "id": "9x8L55rogC6w"
      }
    },
    {
      "cell_type": "code",
      "source": [
        "from keras.layers import Dropout\n",
        "\n",
        "# Defining the model\n",
        "def create_model2(learning_rate, dropout_rate):\n",
        "  model= Sequential()\n",
        "  model.add(Dense(14,input_dim= 11, kernel_initializer='uniform', activation= 'relu'))\n",
        "  model.add(Dropout(dropout_rate))\n",
        "  model.add(Dense(12, input_dim= 14, kernel_initializer='uniform', activation= 'relu'))\n",
        "  model.add(Dropout(dropout_rate))\n",
        "  model.add(Dense(1, kernel_initializer='uniform', activation= 'sigmoid'))\n",
        "\n",
        "  adam= Adam(lr= learning_rate)\n",
        "  model.compile(loss= 'binary_crossentropy', optimizer= adam, metrics= ['accuracy'])\n",
        "  return model\n",
        "\n",
        "# Create the model\n",
        "model2= KerasClassifier(build_fn= create_model2, verbose= 0, batch_size= 20, epochs= 50)\n",
        "\n",
        "# Define the grid search parameters\n",
        "learning_rate= [0.001, 0.01, 0.1]\n",
        "dropout_rate= [0.0,0.1,0.2]\n",
        "\n",
        "# Make a dictionary of the grid search parameters\n",
        "param_grid2= dict(learning_rate= learning_rate, dropout_rate= dropout_rate)\n",
        "\n",
        "# Build and fit the GridSearchCV\n",
        "grid2= GridSearchCV(estimator= model2, param_grid= param_grid2, cv= KFold(), verbose= 10)\n",
        "grid_result2= grid2.fit(X_standardized, Y)"
      ],
      "metadata": {
        "id": "OxAWaPnlZOjT",
        "colab": {
          "base_uri": "https://localhost:8080/"
        },
        "outputId": "b53602be-3ed7-40e8-d91e-ac3cb19f4f1e"
      },
      "execution_count": null,
      "outputs": [
        {
          "output_type": "stream",
          "name": "stdout",
          "text": [
            "Fitting 5 folds for each of 9 candidates, totalling 45 fits\n",
            "[CV 1/5; 1/9] START dropout_rate=0.0, learning_rate=0.001.......................\n",
            "[CV 1/5; 1/9] END dropout_rate=0.0, learning_rate=0.001;, score=0.993 total time=   5.5s\n",
            "[CV 2/5; 1/9] START dropout_rate=0.0, learning_rate=0.001.......................\n",
            "[CV 2/5; 1/9] END dropout_rate=0.0, learning_rate=0.001;, score=0.993 total time=   4.0s\n",
            "[CV 3/5; 1/9] START dropout_rate=0.0, learning_rate=0.001.......................\n",
            "[CV 3/5; 1/9] END dropout_rate=0.0, learning_rate=0.001;, score=0.966 total time=   5.0s\n",
            "[CV 4/5; 1/9] START dropout_rate=0.0, learning_rate=0.001.......................\n",
            "[CV 4/5; 1/9] END dropout_rate=0.0, learning_rate=0.001;, score=0.959 total time=   6.2s\n",
            "[CV 5/5; 1/9] START dropout_rate=0.0, learning_rate=0.001.......................\n",
            "[CV 5/5; 1/9] END dropout_rate=0.0, learning_rate=0.001;, score=1.000 total time=   6.2s\n",
            "[CV 1/5; 2/9] START dropout_rate=0.0, learning_rate=0.01........................\n",
            "[CV 1/5; 2/9] END dropout_rate=0.0, learning_rate=0.01;, score=0.993 total time=   4.2s\n",
            "[CV 2/5; 2/9] START dropout_rate=0.0, learning_rate=0.01........................\n",
            "[CV 2/5; 2/9] END dropout_rate=0.0, learning_rate=0.01;, score=0.973 total time=   6.4s\n",
            "[CV 3/5; 2/9] START dropout_rate=0.0, learning_rate=0.01........................\n",
            "[CV 3/5; 2/9] END dropout_rate=0.0, learning_rate=0.01;, score=0.953 total time=   5.1s\n",
            "[CV 4/5; 2/9] START dropout_rate=0.0, learning_rate=0.01........................\n",
            "[CV 4/5; 2/9] END dropout_rate=0.0, learning_rate=0.01;, score=0.980 total time=   6.3s\n",
            "[CV 5/5; 2/9] START dropout_rate=0.0, learning_rate=0.01........................\n",
            "[CV 5/5; 2/9] END dropout_rate=0.0, learning_rate=0.01;, score=1.000 total time=   4.3s\n",
            "[CV 1/5; 3/9] START dropout_rate=0.0, learning_rate=0.1.........................\n",
            "[CV 1/5; 3/9] END dropout_rate=0.0, learning_rate=0.1;, score=0.993 total time=   4.1s\n",
            "[CV 2/5; 3/9] START dropout_rate=0.0, learning_rate=0.1.........................\n",
            "[CV 2/5; 3/9] END dropout_rate=0.0, learning_rate=0.1;, score=0.940 total time=   9.5s\n",
            "[CV 3/5; 3/9] START dropout_rate=0.0, learning_rate=0.1.........................\n",
            "[CV 3/5; 3/9] END dropout_rate=0.0, learning_rate=0.1;, score=0.270 total time=   6.3s\n",
            "[CV 4/5; 3/9] START dropout_rate=0.0, learning_rate=0.1.........................\n",
            "[CV 4/5; 3/9] END dropout_rate=0.0, learning_rate=0.1;, score=0.966 total time=   6.7s\n",
            "[CV 5/5; 3/9] START dropout_rate=0.0, learning_rate=0.1.........................\n",
            "[CV 5/5; 3/9] END dropout_rate=0.0, learning_rate=0.1;, score=0.993 total time=   6.4s\n",
            "[CV 1/5; 4/9] START dropout_rate=0.1, learning_rate=0.001.......................\n",
            "[CV 1/5; 4/9] END dropout_rate=0.1, learning_rate=0.001;, score=1.000 total time=   6.4s\n",
            "[CV 2/5; 4/9] START dropout_rate=0.1, learning_rate=0.001.......................\n",
            "[CV 2/5; 4/9] END dropout_rate=0.1, learning_rate=0.001;, score=0.980 total time=   4.8s\n",
            "[CV 3/5; 4/9] START dropout_rate=0.1, learning_rate=0.001.......................\n",
            "[CV 3/5; 4/9] END dropout_rate=0.1, learning_rate=0.001;, score=0.959 total time=   5.1s\n",
            "[CV 4/5; 4/9] START dropout_rate=0.1, learning_rate=0.001.......................\n",
            "[CV 4/5; 4/9] END dropout_rate=0.1, learning_rate=0.001;, score=0.986 total time=   6.3s\n",
            "[CV 5/5; 4/9] START dropout_rate=0.1, learning_rate=0.001.......................\n",
            "[CV 5/5; 4/9] END dropout_rate=0.1, learning_rate=0.001;, score=1.000 total time=   5.5s\n",
            "[CV 1/5; 5/9] START dropout_rate=0.1, learning_rate=0.01........................\n",
            "[CV 1/5; 5/9] END dropout_rate=0.1, learning_rate=0.01;, score=0.993 total time=   4.3s\n",
            "[CV 2/5; 5/9] START dropout_rate=0.1, learning_rate=0.01........................\n",
            "[CV 2/5; 5/9] END dropout_rate=0.1, learning_rate=0.01;, score=0.966 total time=   6.4s\n",
            "[CV 3/5; 5/9] START dropout_rate=0.1, learning_rate=0.01........................\n",
            "[CV 3/5; 5/9] END dropout_rate=0.1, learning_rate=0.01;, score=0.959 total time=   4.3s\n",
            "[CV 4/5; 5/9] START dropout_rate=0.1, learning_rate=0.01........................\n",
            "[CV 4/5; 5/9] END dropout_rate=0.1, learning_rate=0.01;, score=0.959 total time=   4.4s\n",
            "[CV 5/5; 5/9] START dropout_rate=0.1, learning_rate=0.01........................\n",
            "[CV 5/5; 5/9] END dropout_rate=0.1, learning_rate=0.01;, score=0.973 total time=   6.3s\n",
            "[CV 1/5; 6/9] START dropout_rate=0.1, learning_rate=0.1.........................\n",
            "[CV 1/5; 6/9] END dropout_rate=0.1, learning_rate=0.1;, score=0.973 total time=   7.3s\n",
            "[CV 2/5; 6/9] START dropout_rate=0.1, learning_rate=0.1.........................\n",
            "[CV 2/5; 6/9] END dropout_rate=0.1, learning_rate=0.1;, score=0.966 total time=   7.2s\n",
            "[CV 3/5; 6/9] START dropout_rate=0.1, learning_rate=0.1.........................\n",
            "[CV 3/5; 6/9] END dropout_rate=0.1, learning_rate=0.1;, score=0.885 total time=   7.5s\n",
            "[CV 4/5; 6/9] START dropout_rate=0.1, learning_rate=0.1.........................\n",
            "[CV 4/5; 6/9] END dropout_rate=0.1, learning_rate=0.1;, score=0.264 total time=   8.2s\n",
            "[CV 5/5; 6/9] START dropout_rate=0.1, learning_rate=0.1.........................\n",
            "[CV 5/5; 6/9] END dropout_rate=0.1, learning_rate=0.1;, score=0.986 total time=   6.2s\n",
            "[CV 1/5; 7/9] START dropout_rate=0.2, learning_rate=0.001.......................\n",
            "[CV 1/5; 7/9] END dropout_rate=0.2, learning_rate=0.001;, score=1.000 total time=   4.3s\n",
            "[CV 2/5; 7/9] START dropout_rate=0.2, learning_rate=0.001.......................\n",
            "[CV 2/5; 7/9] END dropout_rate=0.2, learning_rate=0.001;, score=1.000 total time=   4.3s\n",
            "[CV 3/5; 7/9] START dropout_rate=0.2, learning_rate=0.001.......................\n",
            "[CV 3/5; 7/9] END dropout_rate=0.2, learning_rate=0.001;, score=0.953 total time=   5.3s\n",
            "[CV 4/5; 7/9] START dropout_rate=0.2, learning_rate=0.001.......................\n",
            "[CV 4/5; 7/9] END dropout_rate=0.2, learning_rate=0.001;, score=0.986 total time=   6.3s\n",
            "[CV 5/5; 7/9] START dropout_rate=0.2, learning_rate=0.001.......................\n",
            "[CV 5/5; 7/9] END dropout_rate=0.2, learning_rate=0.001;, score=1.000 total time=   6.2s\n",
            "[CV 1/5; 8/9] START dropout_rate=0.2, learning_rate=0.01........................\n",
            "[CV 1/5; 8/9] END dropout_rate=0.2, learning_rate=0.01;, score=0.993 total time=   4.2s\n",
            "[CV 2/5; 8/9] START dropout_rate=0.2, learning_rate=0.01........................\n",
            "[CV 2/5; 8/9] END dropout_rate=0.2, learning_rate=0.01;, score=0.966 total time=   7.1s\n",
            "[CV 3/5; 8/9] START dropout_rate=0.2, learning_rate=0.01........................\n",
            "[CV 3/5; 8/9] END dropout_rate=0.2, learning_rate=0.01;, score=0.980 total time=   6.3s\n",
            "[CV 4/5; 8/9] START dropout_rate=0.2, learning_rate=0.01........................\n",
            "[CV 4/5; 8/9] END dropout_rate=0.2, learning_rate=0.01;, score=0.966 total time=   6.3s\n",
            "[CV 5/5; 8/9] START dropout_rate=0.2, learning_rate=0.01........................\n",
            "[CV 5/5; 8/9] END dropout_rate=0.2, learning_rate=0.01;, score=1.000 total time=   4.4s\n",
            "[CV 1/5; 9/9] START dropout_rate=0.2, learning_rate=0.1.........................\n",
            "[CV 1/5; 9/9] END dropout_rate=0.2, learning_rate=0.1;, score=0.993 total time=   6.3s\n",
            "[CV 2/5; 9/9] START dropout_rate=0.2, learning_rate=0.1.........................\n",
            "[CV 2/5; 9/9] END dropout_rate=0.2, learning_rate=0.1;, score=0.886 total time=   6.3s\n",
            "[CV 3/5; 9/9] START dropout_rate=0.2, learning_rate=0.1.........................\n",
            "[CV 3/5; 9/9] END dropout_rate=0.2, learning_rate=0.1;, score=0.946 total time=   6.2s\n",
            "[CV 4/5; 9/9] START dropout_rate=0.2, learning_rate=0.1.........................\n",
            "[CV 4/5; 9/9] END dropout_rate=0.2, learning_rate=0.1;, score=0.926 total time=   4.1s\n",
            "[CV 5/5; 9/9] START dropout_rate=0.2, learning_rate=0.1.........................\n",
            "[CV 5/5; 9/9] END dropout_rate=0.2, learning_rate=0.1;, score=1.000 total time=   6.4s\n"
          ]
        }
      ]
    },
    {
      "cell_type": "code",
      "source": [
        "# Summarize the results\n",
        "print('Best: {}, using {}'.format(grid_result2.best_score_, grid_result2.best_params_))\n",
        "means2= grid_result2.cv_results_['mean_test_score']\n",
        "stds2= grid_result2.cv_results_['std_test_score']\n",
        "params2= grid_result2.cv_results_['params']\n",
        "for mean, stdev, param in zip(means2, stds2, params2):\n",
        "  print('{}, {} with : {}'.format(mean, stdev,param))\n",
        "# Best score for Dropout rate= 0.2 and learning rate is 0.001"
      ],
      "metadata": {
        "id": "Ff_wa-TqZOo0",
        "colab": {
          "base_uri": "https://localhost:8080/"
        },
        "outputId": "33becd6c-3298-48f3-e82a-9e206e57ee97"
      },
      "execution_count": null,
      "outputs": [
        {
          "output_type": "stream",
          "name": "stdout",
          "text": [
            "Best: 0.987837839126587, using {'dropout_rate': 0.2, 'learning_rate': 0.001}\n",
            "0.9824505686759949, 0.016340452117087803 with : {'dropout_rate': 0.0, 'learning_rate': 0.001}\n",
            "0.979775071144104, 0.016543346645113276 with : {'dropout_rate': 0.0, 'learning_rate': 0.01}\n",
            "0.832523113489151, 0.2818309726222031 with : {'dropout_rate': 0.0, 'learning_rate': 0.1}\n",
            "0.985162353515625, 0.015038324160795256 with : {'dropout_rate': 0.1, 'learning_rate': 0.001}\n",
            "0.970324695110321, 0.012534168962296028 with : {'dropout_rate': 0.1, 'learning_rate': 0.01}\n",
            "0.8149464845657348, 0.27799699989529414 with : {'dropout_rate': 0.1, 'learning_rate': 0.1}\n",
            "0.987837839126587, 0.01833062207480573 with : {'dropout_rate': 0.2, 'learning_rate': 0.001}\n",
            "0.9811354875564575, 0.013740447084824511 with : {'dropout_rate': 0.2, 'learning_rate': 0.01}\n",
            "0.9501632452011108, 0.0426378021641537 with : {'dropout_rate': 0.2, 'learning_rate': 0.1}\n"
          ]
        }
      ]
    },
    {
      "cell_type": "markdown",
      "source": [
        "# 10. Tuning of Hyperparameters: Activation Function and Kernel Initializer"
      ],
      "metadata": {
        "id": "deL7-wHxnpGF"
      }
    },
    {
      "cell_type": "code",
      "source": [
        "# Defining the model\n",
        "def create_model3(activation_function, init):\n",
        "  model = Sequential()\n",
        "  model.add(Dense(14, input_dim= 11, kernel_initializer= init, activation= activation_function))\n",
        "  model.add(Dropout(0.2))\n",
        "  model.add(Dense(12, input_dim= 14, kernel_initializer= init, activation= activation_function))\n",
        "  model.add(Dropout(0.2))\n",
        "  model.add(Dense(1,activation= 'sigmoid'))\n",
        "\n",
        "  adam=Adam(lr= 0.001)\n",
        "  model.compile(loss= 'binary_crossentropy', optimizer= adam, metrics= ['accuracy'])\n",
        "  return model\n",
        "\n",
        "# Create the model\n",
        "model3= KerasClassifier(build_fn= create_model3, verbose= 0, batch_size= 20, epochs= 50)\n",
        "\n",
        "# Define the grid search parameters\n",
        "activation_function = ['softmax','relu','tanh','linear']\n",
        "init = ['uniform','normal','zero']\n",
        "# Make a dictionary of the grid search parameters\n",
        "param_grids3 = dict(activation_function = activation_function,init = init)\n",
        "\n",
        "# Build and fit the GridSearchCV\n",
        "grid3= GridSearchCV(estimator= model3, param_grid= param_grids3, cv= KFold(), verbose= 10)\n",
        "grid_result3= grid3.fit(X_standardized, Y)"
      ],
      "metadata": {
        "id": "wZFFlDCsZOqQ",
        "colab": {
          "base_uri": "https://localhost:8080/"
        },
        "outputId": "611540e7-3b36-4bca-c347-bf8707f34980"
      },
      "execution_count": null,
      "outputs": [
        {
          "output_type": "stream",
          "name": "stdout",
          "text": [
            "Fitting 5 folds for each of 12 candidates, totalling 60 fits\n",
            "[CV 1/5; 1/12] START activation_function=softmax, init=uniform..................\n",
            "[CV 1/5; 1/12] END activation_function=softmax, init=uniform;, score=0.000 total time=   7.3s\n",
            "[CV 2/5; 1/12] START activation_function=softmax, init=uniform..................\n",
            "[CV 2/5; 1/12] END activation_function=softmax, init=uniform;, score=0.685 total time=   6.2s\n",
            "[CV 3/5; 1/12] START activation_function=softmax, init=uniform..................\n",
            "[CV 3/5; 1/12] END activation_function=softmax, init=uniform;, score=0.480 total time=  11.5s\n",
            "[CV 4/5; 1/12] START activation_function=softmax, init=uniform..................\n",
            "[CV 4/5; 1/12] END activation_function=softmax, init=uniform;, score=0.595 total time=   7.1s\n",
            "[CV 5/5; 1/12] START activation_function=softmax, init=uniform..................\n",
            "[CV 5/5; 1/12] END activation_function=softmax, init=uniform;, score=0.108 total time=  11.9s\n",
            "[CV 1/5; 2/12] START activation_function=softmax, init=normal...................\n",
            "[CV 1/5; 2/12] END activation_function=softmax, init=normal;, score=0.007 total time=   4.9s\n",
            "[CV 2/5; 2/12] START activation_function=softmax, init=normal...................\n",
            "[CV 2/5; 2/12] END activation_function=softmax, init=normal;, score=0.745 total time=   4.2s\n",
            "[CV 3/5; 2/12] START activation_function=softmax, init=normal...................\n",
            "[CV 3/5; 2/12] END activation_function=softmax, init=normal;, score=0.459 total time=   6.7s\n",
            "[CV 4/5; 2/12] START activation_function=softmax, init=normal...................\n",
            "[CV 4/5; 2/12] END activation_function=softmax, init=normal;, score=0.561 total time=   6.4s\n",
            "[CV 5/5; 2/12] START activation_function=softmax, init=normal...................\n",
            "[CV 5/5; 2/12] END activation_function=softmax, init=normal;, score=0.142 total time=   5.5s\n",
            "[CV 1/5; 3/12] START activation_function=softmax, init=zero.....................\n",
            "[CV 1/5; 3/12] END activation_function=softmax, init=zero;, score=0.007 total time=   9.8s\n",
            "[CV 2/5; 3/12] START activation_function=softmax, init=zero.....................\n",
            "[CV 2/5; 3/12] END activation_function=softmax, init=zero;, score=0.718 total time=   4.4s\n",
            "[CV 3/5; 3/12] START activation_function=softmax, init=zero.....................\n",
            "[CV 3/5; 3/12] END activation_function=softmax, init=zero;, score=0.446 total time=   7.8s\n",
            "[CV 4/5; 3/12] START activation_function=softmax, init=zero.....................\n",
            "[CV 4/5; 3/12] END activation_function=softmax, init=zero;, score=0.568 total time=   7.0s\n",
            "[CV 5/5; 3/12] START activation_function=softmax, init=zero.....................\n",
            "[CV 5/5; 3/12] END activation_function=softmax, init=zero;, score=0.000 total time=  11.8s\n",
            "[CV 1/5; 4/12] START activation_function=relu, init=uniform.....................\n",
            "[CV 1/5; 4/12] END activation_function=relu, init=uniform;, score=1.000 total time=  12.5s\n",
            "[CV 2/5; 4/12] START activation_function=relu, init=uniform.....................\n",
            "[CV 2/5; 4/12] END activation_function=relu, init=uniform;, score=0.993 total time=   7.9s\n",
            "[CV 3/5; 4/12] START activation_function=relu, init=uniform.....................\n",
            "[CV 3/5; 4/12] END activation_function=relu, init=uniform;, score=0.959 total time=   4.4s\n",
            "[CV 4/5; 4/12] START activation_function=relu, init=uniform.....................\n",
            "[CV 4/5; 4/12] END activation_function=relu, init=uniform;, score=0.973 total time=   6.6s\n",
            "[CV 5/5; 4/12] START activation_function=relu, init=uniform.....................\n",
            "[CV 5/5; 4/12] END activation_function=relu, init=uniform;, score=1.000 total time=   7.7s\n",
            "[CV 1/5; 5/12] START activation_function=relu, init=normal......................\n",
            "[CV 1/5; 5/12] END activation_function=relu, init=normal;, score=1.000 total time=   6.8s\n",
            "[CV 2/5; 5/12] START activation_function=relu, init=normal......................\n",
            "[CV 2/5; 5/12] END activation_function=relu, init=normal;, score=0.980 total time=   5.0s\n",
            "[CV 3/5; 5/12] START activation_function=relu, init=normal......................\n",
            "[CV 3/5; 5/12] END activation_function=relu, init=normal;, score=0.959 total time=   8.0s\n",
            "[CV 4/5; 5/12] START activation_function=relu, init=normal......................\n",
            "[CV 4/5; 5/12] END activation_function=relu, init=normal;, score=0.986 total time=   6.0s\n",
            "[CV 5/5; 5/12] START activation_function=relu, init=normal......................\n",
            "[CV 5/5; 5/12] END activation_function=relu, init=normal;, score=1.000 total time=   7.9s\n",
            "[CV 1/5; 6/12] START activation_function=relu, init=zero........................\n",
            "[CV 1/5; 6/12] END activation_function=relu, init=zero;, score=0.000 total time=   6.8s\n",
            "[CV 2/5; 6/12] START activation_function=relu, init=zero........................\n",
            "[CV 2/5; 6/12] END activation_function=relu, init=zero;, score=0.497 total time=   5.8s\n",
            "[CV 3/5; 6/12] START activation_function=relu, init=zero........................\n",
            "[CV 3/5; 6/12] END activation_function=relu, init=zero;, score=0.270 total time=   4.4s\n",
            "[CV 4/5; 6/12] START activation_function=relu, init=zero........................\n",
            "[CV 4/5; 6/12] END activation_function=relu, init=zero;, score=0.264 total time=   4.6s\n",
            "[CV 5/5; 6/12] START activation_function=relu, init=zero........................\n",
            "[CV 5/5; 6/12] END activation_function=relu, init=zero;, score=0.000 total time=   6.8s\n",
            "[CV 1/5; 7/12] START activation_function=tanh, init=uniform.....................\n",
            "[CV 1/5; 7/12] END activation_function=tanh, init=uniform;, score=1.000 total time=   4.7s\n",
            "[CV 2/5; 7/12] START activation_function=tanh, init=uniform.....................\n",
            "[CV 2/5; 7/12] END activation_function=tanh, init=uniform;, score=0.993 total time=   6.6s\n",
            "[CV 3/5; 7/12] START activation_function=tanh, init=uniform.....................\n",
            "[CV 3/5; 7/12] END activation_function=tanh, init=uniform;, score=0.973 total time=   5.2s\n",
            "[CV 4/5; 7/12] START activation_function=tanh, init=uniform.....................\n",
            "[CV 4/5; 7/12] END activation_function=tanh, init=uniform;, score=0.966 total time=   6.3s\n",
            "[CV 5/5; 7/12] START activation_function=tanh, init=uniform.....................\n",
            "[CV 5/5; 7/12] END activation_function=tanh, init=uniform;, score=1.000 total time=   4.1s\n",
            "[CV 1/5; 8/12] START activation_function=tanh, init=normal......................\n",
            "[CV 1/5; 8/12] END activation_function=tanh, init=normal;, score=1.000 total time=  12.5s\n",
            "[CV 2/5; 8/12] START activation_function=tanh, init=normal......................\n",
            "[CV 2/5; 8/12] END activation_function=tanh, init=normal;, score=1.000 total time=   4.4s\n",
            "[CV 3/5; 8/12] START activation_function=tanh, init=normal......................\n",
            "[CV 3/5; 8/12] END activation_function=tanh, init=normal;, score=0.973 total time=   5.1s\n",
            "[CV 4/5; 8/12] START activation_function=tanh, init=normal......................\n",
            "[CV 4/5; 8/12] END activation_function=tanh, init=normal;, score=0.973 total time=   4.2s\n",
            "[CV 5/5; 8/12] START activation_function=tanh, init=normal......................\n",
            "[CV 5/5; 8/12] END activation_function=tanh, init=normal;, score=1.000 total time=   6.2s\n",
            "[CV 1/5; 9/12] START activation_function=tanh, init=zero........................\n",
            "[CV 1/5; 9/12] END activation_function=tanh, init=zero;, score=0.000 total time=   4.1s\n",
            "[CV 2/5; 9/12] START activation_function=tanh, init=zero........................\n",
            "[CV 2/5; 9/12] END activation_function=tanh, init=zero;, score=0.497 total time=   4.2s\n",
            "[CV 3/5; 9/12] START activation_function=tanh, init=zero........................\n",
            "[CV 3/5; 9/12] END activation_function=tanh, init=zero;, score=0.270 total time=   6.4s\n",
            "[CV 4/5; 9/12] START activation_function=tanh, init=zero........................\n",
            "[CV 4/5; 9/12] END activation_function=tanh, init=zero;, score=0.264 total time=   4.3s\n",
            "[CV 5/5; 9/12] START activation_function=tanh, init=zero........................\n",
            "[CV 5/5; 9/12] END activation_function=tanh, init=zero;, score=0.000 total time=   6.8s\n",
            "[CV 1/5; 10/12] START activation_function=linear, init=uniform..................\n",
            "[CV 1/5; 10/12] END activation_function=linear, init=uniform;, score=1.000 total time=   4.8s\n",
            "[CV 2/5; 10/12] START activation_function=linear, init=uniform..................\n",
            "[CV 2/5; 10/12] END activation_function=linear, init=uniform;, score=1.000 total time=   6.2s\n",
            "[CV 3/5; 10/12] START activation_function=linear, init=uniform..................\n",
            "[CV 3/5; 10/12] END activation_function=linear, init=uniform;, score=0.966 total time=   6.2s\n",
            "[CV 4/5; 10/12] START activation_function=linear, init=uniform..................\n",
            "[CV 4/5; 10/12] END activation_function=linear, init=uniform;, score=0.966 total time=   6.4s\n",
            "[CV 5/5; 10/12] START activation_function=linear, init=uniform..................\n",
            "[CV 5/5; 10/12] END activation_function=linear, init=uniform;, score=1.000 total time=   6.1s\n",
            "[CV 1/5; 11/12] START activation_function=linear, init=normal...................\n",
            "[CV 1/5; 11/12] END activation_function=linear, init=normal;, score=1.000 total time=   6.3s\n",
            "[CV 2/5; 11/12] START activation_function=linear, init=normal...................\n",
            "[CV 2/5; 11/12] END activation_function=linear, init=normal;, score=1.000 total time=   6.4s\n",
            "[CV 3/5; 11/12] START activation_function=linear, init=normal...................\n",
            "[CV 3/5; 11/12] END activation_function=linear, init=normal;, score=0.973 total time=   6.3s\n",
            "[CV 4/5; 11/12] START activation_function=linear, init=normal...................\n",
            "[CV 4/5; 11/12] END activation_function=linear, init=normal;, score=0.959 total time=   4.3s\n",
            "[CV 5/5; 11/12] START activation_function=linear, init=normal...................\n",
            "[CV 5/5; 11/12] END activation_function=linear, init=normal;, score=1.000 total time=   6.8s\n",
            "[CV 1/5; 12/12] START activation_function=linear, init=zero.....................\n",
            "[CV 1/5; 12/12] END activation_function=linear, init=zero;, score=0.000 total time=   7.9s\n",
            "[CV 2/5; 12/12] START activation_function=linear, init=zero.....................\n",
            "[CV 2/5; 12/12] END activation_function=linear, init=zero;, score=0.497 total time=   7.3s\n",
            "[CV 3/5; 12/12] START activation_function=linear, init=zero.....................\n",
            "[CV 3/5; 12/12] END activation_function=linear, init=zero;, score=0.270 total time=   4.5s\n",
            "[CV 4/5; 12/12] START activation_function=linear, init=zero.....................\n",
            "[CV 4/5; 12/12] END activation_function=linear, init=zero;, score=0.264 total time=   5.5s\n",
            "[CV 5/5; 12/12] START activation_function=linear, init=zero.....................\n",
            "[CV 5/5; 12/12] END activation_function=linear, init=zero;, score=0.000 total time=   5.2s\n"
          ]
        }
      ]
    },
    {
      "cell_type": "markdown",
      "source": [
        "# 11. Tuning of Hyperparameter: Number of Neurons in activation layer"
      ],
      "metadata": {
        "id": "l_DspEThqh4c"
      }
    },
    {
      "cell_type": "code",
      "source": [
        "# Defining the model\n",
        "def create_model4(neuron1, neuron2):\n",
        "  model= Sequential()\n",
        "  model.add(Dense(neuron1,input_dim= 11, kernel_initializer='uniform', activation= 'relu'))\n",
        "  model.add(Dropout(0.2))\n",
        "  model.add(Dense(neuron2, input_dim= neuron1, kernel_initializer='uniform', activation= 'relu'))\n",
        "  model.add(Dropout(0.2))\n",
        "  model.add(Dense(1, activation= 'sigmoid'))\n",
        "\n",
        "  adam= Adam(lr= 0.001)\n",
        "  model.compile(loss= 'binary_crossentropy', optimizer= adam, metrics= ['accuracy'])\n",
        "  return model\n",
        "\n",
        "# Create the model\n",
        "model4= KerasClassifier(build_fn= create_model4, verbose= 0, batch_size= 20, epochs= 50)\n",
        "\n",
        "# Define the grid search parameters\n",
        "neuron1= [4,8,14]\n",
        "neuron2= [4,8,12]\n",
        "\n",
        "# Make a dictionary of the grid search parameters\n",
        "param_grid4= dict(neuron1= neuron1, neuron2= neuron2)\n",
        "\n",
        "# Build and fit the GridSearchCV\n",
        "grid4= GridSearchCV(estimator= model4, param_grid= param_grid4, cv= KFold(), verbose= 10)\n",
        "grid_result4= grid4.fit(X_standardized, Y)"
      ],
      "metadata": {
        "id": "LmSQDCM1ZOv0",
        "colab": {
          "base_uri": "https://localhost:8080/"
        },
        "outputId": "3d31d2cf-2fba-4e96-f0b3-8ee69cf9e219"
      },
      "execution_count": null,
      "outputs": [
        {
          "output_type": "stream",
          "name": "stdout",
          "text": [
            "Fitting 5 folds for each of 9 candidates, totalling 45 fits\n",
            "[CV 1/5; 1/9] START neuron1=4, neuron2=4........................................\n",
            "[CV 1/5; 1/9] END .........neuron1=4, neuron2=4;, score=1.000 total time=   4.7s\n",
            "[CV 2/5; 1/9] START neuron1=4, neuron2=4........................................\n",
            "[CV 2/5; 1/9] END .........neuron1=4, neuron2=4;, score=1.000 total time=   6.5s\n",
            "[CV 3/5; 1/9] START neuron1=4, neuron2=4........................................\n",
            "[CV 3/5; 1/9] END .........neuron1=4, neuron2=4;, score=0.966 total time=   6.2s\n",
            "[CV 4/5; 1/9] START neuron1=4, neuron2=4........................................\n",
            "[CV 4/5; 1/9] END .........neuron1=4, neuron2=4;, score=0.980 total time=   5.2s\n",
            "[CV 5/5; 1/9] START neuron1=4, neuron2=4........................................\n",
            "[CV 5/5; 1/9] END .........neuron1=4, neuron2=4;, score=0.797 total time=   6.6s\n",
            "[CV 1/5; 2/9] START neuron1=4, neuron2=8........................................\n",
            "[CV 1/5; 2/9] END .........neuron1=4, neuron2=8;, score=1.000 total time=   9.2s\n",
            "[CV 2/5; 2/9] START neuron1=4, neuron2=8........................................\n",
            "[CV 2/5; 2/9] END .........neuron1=4, neuron2=8;, score=0.987 total time=  12.4s\n",
            "[CV 3/5; 2/9] START neuron1=4, neuron2=8........................................\n",
            "[CV 3/5; 2/9] END .........neuron1=4, neuron2=8;, score=0.959 total time=   7.9s\n",
            "[CV 4/5; 2/9] START neuron1=4, neuron2=8........................................\n",
            "[CV 4/5; 2/9] END .........neuron1=4, neuron2=8;, score=0.973 total time=   4.9s\n",
            "[CV 5/5; 2/9] START neuron1=4, neuron2=8........................................\n",
            "[CV 5/5; 2/9] END .........neuron1=4, neuron2=8;, score=0.845 total time=   7.7s\n",
            "[CV 1/5; 3/9] START neuron1=4, neuron2=12.......................................\n",
            "[CV 1/5; 3/9] END ........neuron1=4, neuron2=12;, score=0.993 total time=   6.7s\n",
            "[CV 2/5; 3/9] START neuron1=4, neuron2=12.......................................\n",
            "[CV 2/5; 3/9] END ........neuron1=4, neuron2=12;, score=0.993 total time=   6.7s\n",
            "[CV 3/5; 3/9] START neuron1=4, neuron2=12.......................................\n",
            "[CV 3/5; 3/9] END ........neuron1=4, neuron2=12;, score=0.966 total time=  11.8s\n",
            "[CV 4/5; 3/9] START neuron1=4, neuron2=12.......................................\n",
            "[CV 4/5; 3/9] END ........neuron1=4, neuron2=12;, score=0.980 total time=   4.0s\n",
            "[CV 5/5; 3/9] START neuron1=4, neuron2=12.......................................\n",
            "[CV 5/5; 3/9] END ........neuron1=4, neuron2=12;, score=0.980 total time=   4.9s\n",
            "[CV 1/5; 4/9] START neuron1=8, neuron2=4........................................\n",
            "[CV 1/5; 4/9] END .........neuron1=8, neuron2=4;, score=0.993 total time=   6.2s\n",
            "[CV 2/5; 4/9] START neuron1=8, neuron2=4........................................\n",
            "[CV 2/5; 4/9] END .........neuron1=8, neuron2=4;, score=0.980 total time=   6.2s\n",
            "[CV 3/5; 4/9] START neuron1=8, neuron2=4........................................\n",
            "[CV 3/5; 4/9] END .........neuron1=8, neuron2=4;, score=0.953 total time=   6.3s\n",
            "[CV 4/5; 4/9] START neuron1=8, neuron2=4........................................\n",
            "[CV 4/5; 4/9] END .........neuron1=8, neuron2=4;, score=0.980 total time=   6.7s\n",
            "[CV 5/5; 4/9] START neuron1=8, neuron2=4........................................\n",
            "[CV 5/5; 4/9] END .........neuron1=8, neuron2=4;, score=0.959 total time=   8.1s\n",
            "[CV 1/5; 5/9] START neuron1=8, neuron2=8........................................\n",
            "[CV 1/5; 5/9] END .........neuron1=8, neuron2=8;, score=1.000 total time=  10.8s\n",
            "[CV 2/5; 5/9] START neuron1=8, neuron2=8........................................\n",
            "[CV 2/5; 5/9] END .........neuron1=8, neuron2=8;, score=0.993 total time=   7.6s\n",
            "[CV 3/5; 5/9] START neuron1=8, neuron2=8........................................\n",
            "[CV 3/5; 5/9] END .........neuron1=8, neuron2=8;, score=0.939 total time=   6.8s\n",
            "[CV 4/5; 5/9] START neuron1=8, neuron2=8........................................\n",
            "[CV 4/5; 5/9] END .........neuron1=8, neuron2=8;, score=0.980 total time=   5.0s\n",
            "[CV 5/5; 5/9] START neuron1=8, neuron2=8........................................\n",
            "[CV 5/5; 5/9] END .........neuron1=8, neuron2=8;, score=0.946 total time=   4.1s\n",
            "[CV 1/5; 6/9] START neuron1=8, neuron2=12.......................................\n",
            "[CV 1/5; 6/9] END ........neuron1=8, neuron2=12;, score=1.000 total time=   6.8s\n",
            "[CV 2/5; 6/9] START neuron1=8, neuron2=12.......................................\n",
            "[CV 2/5; 6/9] END ........neuron1=8, neuron2=12;, score=1.000 total time=   5.4s\n",
            "[CV 3/5; 6/9] START neuron1=8, neuron2=12.......................................\n",
            "[CV 3/5; 6/9] END ........neuron1=8, neuron2=12;, score=0.966 total time=  11.7s\n",
            "[CV 4/5; 6/9] START neuron1=8, neuron2=12.......................................\n",
            "[CV 4/5; 6/9] END ........neuron1=8, neuron2=12;, score=0.980 total time=   6.9s\n",
            "[CV 5/5; 6/9] START neuron1=8, neuron2=12.......................................\n",
            "[CV 5/5; 6/9] END ........neuron1=8, neuron2=12;, score=0.986 total time=   7.3s\n",
            "[CV 1/5; 7/9] START neuron1=14, neuron2=4.......................................\n",
            "[CV 1/5; 7/9] END ........neuron1=14, neuron2=4;, score=1.000 total time=   6.7s\n",
            "[CV 2/5; 7/9] START neuron1=14, neuron2=4.......................................\n",
            "[CV 2/5; 7/9] END ........neuron1=14, neuron2=4;, score=0.987 total time=   6.7s\n",
            "[CV 3/5; 7/9] START neuron1=14, neuron2=4.......................................\n",
            "[CV 3/5; 7/9] END ........neuron1=14, neuron2=4;, score=0.939 total time=   7.9s\n",
            "[CV 4/5; 7/9] START neuron1=14, neuron2=4.......................................\n",
            "[CV 4/5; 7/9] END ........neuron1=14, neuron2=4;, score=0.980 total time=   6.7s\n",
            "[CV 5/5; 7/9] START neuron1=14, neuron2=4.......................................\n",
            "[CV 5/5; 7/9] END ........neuron1=14, neuron2=4;, score=1.000 total time=   6.2s\n",
            "[CV 1/5; 8/9] START neuron1=14, neuron2=8.......................................\n",
            "[CV 1/5; 8/9] END ........neuron1=14, neuron2=8;, score=1.000 total time=  12.5s\n",
            "[CV 2/5; 8/9] START neuron1=14, neuron2=8.......................................\n",
            "[CV 2/5; 8/9] END ........neuron1=14, neuron2=8;, score=0.993 total time=   6.6s\n",
            "[CV 3/5; 8/9] START neuron1=14, neuron2=8.......................................\n",
            "[CV 3/5; 8/9] END ........neuron1=14, neuron2=8;, score=0.966 total time=  11.8s\n",
            "[CV 4/5; 8/9] START neuron1=14, neuron2=8.......................................\n",
            "[CV 4/5; 8/9] END ........neuron1=14, neuron2=8;, score=0.973 total time=   5.4s\n",
            "[CV 5/5; 8/9] START neuron1=14, neuron2=8.......................................\n",
            "[CV 5/5; 8/9] END ........neuron1=14, neuron2=8;, score=0.993 total time=   4.3s\n",
            "[CV 1/5; 9/9] START neuron1=14, neuron2=12......................................\n",
            "[CV 1/5; 9/9] END .......neuron1=14, neuron2=12;, score=1.000 total time=   6.4s\n",
            "[CV 2/5; 9/9] START neuron1=14, neuron2=12......................................\n",
            "[CV 2/5; 9/9] END .......neuron1=14, neuron2=12;, score=0.987 total time=   4.6s\n",
            "[CV 3/5; 9/9] START neuron1=14, neuron2=12......................................\n",
            "[CV 3/5; 9/9] END .......neuron1=14, neuron2=12;, score=0.966 total time=   4.1s\n",
            "[CV 4/5; 9/9] START neuron1=14, neuron2=12......................................\n",
            "[CV 4/5; 9/9] END .......neuron1=14, neuron2=12;, score=0.980 total time=   6.2s\n",
            "[CV 5/5; 9/9] START neuron1=14, neuron2=12......................................\n",
            "[CV 5/5; 9/9] END .......neuron1=14, neuron2=12;, score=1.000 total time=   4.1s\n"
          ]
        }
      ]
    },
    {
      "cell_type": "code",
      "source": [
        "# Summarize the results\n",
        "print('Best: {}, using {}'.format(grid_result4.best_score_, grid_result4.best_params_))\n",
        "means4= grid_result4.cv_results_['mean_test_score']\n",
        "stds4= grid_result4.cv_results_['std_test_score']\n",
        "params4= grid_result4.cv_results_['params']\n",
        "for mean, stdev, param in zip(means4, stds4, params4):\n",
        "  print('{}, {} with : {}'.format(mean, stdev,param))\n",
        "# Best results are Neuron 1= 4 and Neuron 2= 4"
      ],
      "metadata": {
        "id": "MiaDkQK9ZOxl",
        "colab": {
          "base_uri": "https://localhost:8080/"
        },
        "outputId": "d07249cf-8e3f-4931-df51-24b7716ba5a6"
      },
      "execution_count": null,
      "outputs": [
        {
          "output_type": "stream",
          "name": "stdout",
          "text": [
            "Best: 0.9865046143531799, using {'neuron1': 14, 'neuron2': 12}\n",
            "0.9486486434936523, 0.07675389922308887 with : {'neuron1': 4, 'neuron2': 4}\n",
            "0.952720844745636, 0.05572864976521378 with : {'neuron1': 4, 'neuron2': 8}\n",
            "0.9824505567550659, 0.010131983687972019 with : {'neuron1': 4, 'neuron2': 12}\n",
            "0.9730092525482178, 0.014828215855166188 with : {'neuron1': 8, 'neuron2': 4}\n",
            "0.9716306805610657, 0.02470479305795718 with : {'neuron1': 8, 'neuron2': 8}\n",
            "0.9864864826202393, 0.012820049492672759 with : {'neuron1': 8, 'neuron2': 12}\n",
            "0.9810992121696472, 0.022373253746421136 with : {'neuron1': 14, 'neuron2': 4}\n",
            "0.9851441979408264, 0.01310745634411565 with : {'neuron1': 14, 'neuron2': 8}\n",
            "0.9865046143531799, 0.012820100797803073 with : {'neuron1': 14, 'neuron2': 12}\n"
          ]
        }
      ]
    },
    {
      "cell_type": "markdown",
      "source": [
        "# 12. Hyperparameters all at once\n",
        "By using two hyperparameters simultaneously, the hyperparameter tuning was completed. We might have overlooked the best values. By determining the optimal values of all the hyperparameters simultaneously provided by the code snippet below, the efficiency can be further enhanced. "
      ],
      "metadata": {
        "id": "VfH6VimJt9Th"
      }
    },
    {
      "cell_type": "markdown",
      "source": [
        "### The expense of computing this procedure is high."
      ],
      "metadata": {
        "id": "SoaiWCzsu_IL"
      }
    },
    {
      "cell_type": "code",
      "source": [
        "# Defining the model\n",
        "def create_model_fnl():\n",
        "  model= Sequential()\n",
        "  model.add(Dense(4,input_dim= 11, kernel_initializer='uniform', activation= 'relu'))\n",
        "  model.add(Dropout(0.2))\n",
        "  model.add(Dense(4, input_dim= 4, kernel_initializer='uniform', activation= 'relu'))\n",
        "  model.add(Dropout(0.2))\n",
        "  model.add(Dense(1, activation= 'sigmoid'))\n",
        "\n",
        "  adam= Adam(lr= 0.001) # sgd= SGD(lr= learning_rate, momentum= momentum, decay= decay_rate, nesterov= False)\n",
        "  model.compile(loss= 'binary_crossentropy', optimizer= adam, metrics= ['accuracy'])\n",
        "  return model\n",
        "\n",
        "# Create the model\n",
        "model_fnl= KerasClassifier(build_fn= create_model_fnl, verbose= 0, batch_size= 20, epochs= 50)\n",
        "\n",
        "# Making training and Testing Data\n",
        "X_train_1, X_test_1, y_train_1, y_test_1= train_test_split(X_standardized, Y, test_size= 0.3)\n",
        "\n",
        "# Fitting the model\n",
        "hist2= model_fnl.fit(X_train_1, y_train_1)"
      ],
      "metadata": {
        "id": "8s8Dn0b3ZO5c"
      },
      "execution_count": null,
      "outputs": []
    },
    {
      "cell_type": "code",
      "source": [
        "pip install --upgrade scikit-learn"
      ],
      "metadata": {
        "colab": {
          "base_uri": "https://localhost:8080/"
        },
        "id": "ullcyO8Sx9By",
        "outputId": "ea09371f-bae2-44ab-ec95-9547e1ff04a7"
      },
      "execution_count": null,
      "outputs": [
        {
          "output_type": "stream",
          "name": "stdout",
          "text": [
            "Looking in indexes: https://pypi.org/simple, https://us-python.pkg.dev/colab-wheels/public/simple/\n",
            "Requirement already satisfied: scikit-learn in /usr/local/lib/python3.8/dist-packages (1.2.1)\n",
            "Requirement already satisfied: joblib>=1.1.1 in /usr/local/lib/python3.8/dist-packages (from scikit-learn) (1.2.0)\n",
            "Requirement already satisfied: numpy>=1.17.3 in /usr/local/lib/python3.8/dist-packages (from scikit-learn) (1.22.4)\n",
            "Requirement already satisfied: scipy>=1.3.2 in /usr/local/lib/python3.8/dist-packages (from scikit-learn) (1.10.1)\n",
            "Requirement already satisfied: threadpoolctl>=2.0.0 in /usr/local/lib/python3.8/dist-packages (from scikit-learn) (3.1.0)\n"
          ]
        }
      ]
    },
    {
      "cell_type": "code",
      "source": [
        "from sklearn.metrics import confusion_matrix,classification_report\n",
        "from sklearn.metrics import ConfusionMatrixDisplay\n",
        "\n",
        "def report_model(model):\n",
        "  model_preds= model.predict(X_test_1)\n",
        "  print(confusion_matrix(y_test_1, model_preds))\n",
        "  print(classification_report(y_test_1, model_preds))\n",
        "report_model(model_fnl)"
      ],
      "metadata": {
        "id": "d4XfxtOJZO-L",
        "colab": {
          "base_uri": "https://localhost:8080/"
        },
        "outputId": "39f222d2-c00a-440c-d9c1-49fa55ccce26"
      },
      "execution_count": null,
      "outputs": [
        {
          "output_type": "stream",
          "name": "stdout",
          "text": [
            "7/7 [==============================] - 0s 4ms/step\n",
            "[[120   6]\n",
            " [  0  97]]\n",
            "              precision    recall  f1-score   support\n",
            "\n",
            "           0       1.00      0.95      0.98       126\n",
            "           1       0.94      1.00      0.97        97\n",
            "\n",
            "    accuracy                           0.97       223\n",
            "   macro avg       0.97      0.98      0.97       223\n",
            "weighted avg       0.97      0.97      0.97       223\n",
            "\n"
          ]
        }
      ]
    },
    {
      "cell_type": "code",
      "source": [],
      "metadata": {
        "id": "XSE3psbHZO_r"
      },
      "execution_count": null,
      "outputs": []
    }
  ]
}