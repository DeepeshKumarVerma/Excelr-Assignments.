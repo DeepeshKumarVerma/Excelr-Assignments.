{
  "nbformat": 4,
  "nbformat_minor": 0,
  "metadata": {
    "colab": {
      "provenance": []
    },
    "kernelspec": {
      "name": "python3",
      "display_name": "Python 3"
    },
    "language_info": {
      "name": "python"
    }
  },
  "cells": [
    {
      "cell_type": "markdown",
      "source": [
        "# Predicting turbine energy yield (TEY) using ambient variables as features.\n"
      ],
      "metadata": {
        "id": "z9AlAtq_ZQAD"
      }
    },
    {
      "cell_type": "code",
      "execution_count": null,
      "metadata": {
        "id": "g0kTxlOOV5HC"
      },
      "outputs": [],
      "source": [
        "import keras\n",
        "import numpy as np\n",
        "import pandas as pd\n",
        "from sklearn.model_selection import train_test_split, cross_val_score\n",
        "import seaborn as sns\n",
        "from keras.models import Sequential\n",
        "from keras.layers import Dense \n",
        "from matplotlib import pyplot as plt\n",
        "%matplotlib inline\n",
        "from sklearn.decomposition import PCA\n",
        "import tensorflow as tf\n",
        "tf.debugging.set_log_device_placement(False)\n",
        "import warnings\n",
        "warnings.filterwarnings('ignore')"
      ]
    },
    {
      "cell_type": "code",
      "source": [
        "# Generating reproducible results from same code\n",
        "tf.random.set_seed(14)"
      ],
      "metadata": {
        "id": "3GzVzS7bZNIa"
      },
      "execution_count": null,
      "outputs": []
    },
    {
      "cell_type": "markdown",
      "source": [
        "# 1. Data collection and description"
      ],
      "metadata": {
        "id": "poDOFYik2wl3"
      }
    },
    {
      "cell_type": "code",
      "source": [
        "from google.colab import files\n",
        "uploaded= files.upload()"
      ],
      "metadata": {
        "colab": {
          "base_uri": "https://localhost:8080/",
          "height": 73
        },
        "id": "lqr7HWzD0JZv",
        "outputId": "0c347dff-f9b9-4163-9a82-462b49d5560d"
      },
      "execution_count": null,
      "outputs": [
        {
          "output_type": "display_data",
          "data": {
            "text/plain": [
              "<IPython.core.display.HTML object>"
            ],
            "text/html": [
              "\n",
              "     <input type=\"file\" id=\"files-6e3b241a-c104-4d1b-a791-9ce3a326a6cd\" name=\"files[]\" multiple disabled\n",
              "        style=\"border:none\" />\n",
              "     <output id=\"result-6e3b241a-c104-4d1b-a791-9ce3a326a6cd\">\n",
              "      Upload widget is only available when the cell has been executed in the\n",
              "      current browser session. Please rerun this cell to enable.\n",
              "      </output>\n",
              "      <script>// Copyright 2017 Google LLC\n",
              "//\n",
              "// Licensed under the Apache License, Version 2.0 (the \"License\");\n",
              "// you may not use this file except in compliance with the License.\n",
              "// You may obtain a copy of the License at\n",
              "//\n",
              "//      http://www.apache.org/licenses/LICENSE-2.0\n",
              "//\n",
              "// Unless required by applicable law or agreed to in writing, software\n",
              "// distributed under the License is distributed on an \"AS IS\" BASIS,\n",
              "// WITHOUT WARRANTIES OR CONDITIONS OF ANY KIND, either express or implied.\n",
              "// See the License for the specific language governing permissions and\n",
              "// limitations under the License.\n",
              "\n",
              "/**\n",
              " * @fileoverview Helpers for google.colab Python module.\n",
              " */\n",
              "(function(scope) {\n",
              "function span(text, styleAttributes = {}) {\n",
              "  const element = document.createElement('span');\n",
              "  element.textContent = text;\n",
              "  for (const key of Object.keys(styleAttributes)) {\n",
              "    element.style[key] = styleAttributes[key];\n",
              "  }\n",
              "  return element;\n",
              "}\n",
              "\n",
              "// Max number of bytes which will be uploaded at a time.\n",
              "const MAX_PAYLOAD_SIZE = 100 * 1024;\n",
              "\n",
              "function _uploadFiles(inputId, outputId) {\n",
              "  const steps = uploadFilesStep(inputId, outputId);\n",
              "  const outputElement = document.getElementById(outputId);\n",
              "  // Cache steps on the outputElement to make it available for the next call\n",
              "  // to uploadFilesContinue from Python.\n",
              "  outputElement.steps = steps;\n",
              "\n",
              "  return _uploadFilesContinue(outputId);\n",
              "}\n",
              "\n",
              "// This is roughly an async generator (not supported in the browser yet),\n",
              "// where there are multiple asynchronous steps and the Python side is going\n",
              "// to poll for completion of each step.\n",
              "// This uses a Promise to block the python side on completion of each step,\n",
              "// then passes the result of the previous step as the input to the next step.\n",
              "function _uploadFilesContinue(outputId) {\n",
              "  const outputElement = document.getElementById(outputId);\n",
              "  const steps = outputElement.steps;\n",
              "\n",
              "  const next = steps.next(outputElement.lastPromiseValue);\n",
              "  return Promise.resolve(next.value.promise).then((value) => {\n",
              "    // Cache the last promise value to make it available to the next\n",
              "    // step of the generator.\n",
              "    outputElement.lastPromiseValue = value;\n",
              "    return next.value.response;\n",
              "  });\n",
              "}\n",
              "\n",
              "/**\n",
              " * Generator function which is called between each async step of the upload\n",
              " * process.\n",
              " * @param {string} inputId Element ID of the input file picker element.\n",
              " * @param {string} outputId Element ID of the output display.\n",
              " * @return {!Iterable<!Object>} Iterable of next steps.\n",
              " */\n",
              "function* uploadFilesStep(inputId, outputId) {\n",
              "  const inputElement = document.getElementById(inputId);\n",
              "  inputElement.disabled = false;\n",
              "\n",
              "  const outputElement = document.getElementById(outputId);\n",
              "  outputElement.innerHTML = '';\n",
              "\n",
              "  const pickedPromise = new Promise((resolve) => {\n",
              "    inputElement.addEventListener('change', (e) => {\n",
              "      resolve(e.target.files);\n",
              "    });\n",
              "  });\n",
              "\n",
              "  const cancel = document.createElement('button');\n",
              "  inputElement.parentElement.appendChild(cancel);\n",
              "  cancel.textContent = 'Cancel upload';\n",
              "  const cancelPromise = new Promise((resolve) => {\n",
              "    cancel.onclick = () => {\n",
              "      resolve(null);\n",
              "    };\n",
              "  });\n",
              "\n",
              "  // Wait for the user to pick the files.\n",
              "  const files = yield {\n",
              "    promise: Promise.race([pickedPromise, cancelPromise]),\n",
              "    response: {\n",
              "      action: 'starting',\n",
              "    }\n",
              "  };\n",
              "\n",
              "  cancel.remove();\n",
              "\n",
              "  // Disable the input element since further picks are not allowed.\n",
              "  inputElement.disabled = true;\n",
              "\n",
              "  if (!files) {\n",
              "    return {\n",
              "      response: {\n",
              "        action: 'complete',\n",
              "      }\n",
              "    };\n",
              "  }\n",
              "\n",
              "  for (const file of files) {\n",
              "    const li = document.createElement('li');\n",
              "    li.append(span(file.name, {fontWeight: 'bold'}));\n",
              "    li.append(span(\n",
              "        `(${file.type || 'n/a'}) - ${file.size} bytes, ` +\n",
              "        `last modified: ${\n",
              "            file.lastModifiedDate ? file.lastModifiedDate.toLocaleDateString() :\n",
              "                                    'n/a'} - `));\n",
              "    const percent = span('0% done');\n",
              "    li.appendChild(percent);\n",
              "\n",
              "    outputElement.appendChild(li);\n",
              "\n",
              "    const fileDataPromise = new Promise((resolve) => {\n",
              "      const reader = new FileReader();\n",
              "      reader.onload = (e) => {\n",
              "        resolve(e.target.result);\n",
              "      };\n",
              "      reader.readAsArrayBuffer(file);\n",
              "    });\n",
              "    // Wait for the data to be ready.\n",
              "    let fileData = yield {\n",
              "      promise: fileDataPromise,\n",
              "      response: {\n",
              "        action: 'continue',\n",
              "      }\n",
              "    };\n",
              "\n",
              "    // Use a chunked sending to avoid message size limits. See b/62115660.\n",
              "    let position = 0;\n",
              "    do {\n",
              "      const length = Math.min(fileData.byteLength - position, MAX_PAYLOAD_SIZE);\n",
              "      const chunk = new Uint8Array(fileData, position, length);\n",
              "      position += length;\n",
              "\n",
              "      const base64 = btoa(String.fromCharCode.apply(null, chunk));\n",
              "      yield {\n",
              "        response: {\n",
              "          action: 'append',\n",
              "          file: file.name,\n",
              "          data: base64,\n",
              "        },\n",
              "      };\n",
              "\n",
              "      let percentDone = fileData.byteLength === 0 ?\n",
              "          100 :\n",
              "          Math.round((position / fileData.byteLength) * 100);\n",
              "      percent.textContent = `${percentDone}% done`;\n",
              "\n",
              "    } while (position < fileData.byteLength);\n",
              "  }\n",
              "\n",
              "  // All done.\n",
              "  yield {\n",
              "    response: {\n",
              "      action: 'complete',\n",
              "    }\n",
              "  };\n",
              "}\n",
              "\n",
              "scope.google = scope.google || {};\n",
              "scope.google.colab = scope.google.colab || {};\n",
              "scope.google.colab._files = {\n",
              "  _uploadFiles,\n",
              "  _uploadFilesContinue,\n",
              "};\n",
              "})(self);\n",
              "</script> "
            ]
          },
          "metadata": {}
        },
        {
          "output_type": "stream",
          "name": "stdout",
          "text": [
            "Saving gas_turbines.csv to gas_turbines.csv\n"
          ]
        }
      ]
    },
    {
      "cell_type": "code",
      "source": [
        "gas= pd.read_csv('gas_turbines.csv')\n",
        "gas.head()"
      ],
      "metadata": {
        "id": "wthCFZ6IZNLh",
        "colab": {
          "base_uri": "https://localhost:8080/",
          "height": 206
        },
        "outputId": "d2c9c8e9-6597-40cb-f373-da0f6d6971db"
      },
      "execution_count": null,
      "outputs": [
        {
          "output_type": "execute_result",
          "data": {
            "text/plain": [
              "       AT      AP      AH    AFDP    GTEP     TIT     TAT     TEY     CDP  \\\n",
              "0  6.8594  1007.9  96.799  3.5000  19.663  1059.2  550.00  114.70  10.605   \n",
              "1  6.7850  1008.4  97.118  3.4998  19.728  1059.3  550.00  114.72  10.598   \n",
              "2  6.8977  1008.8  95.939  3.4824  19.779  1059.4  549.87  114.71  10.601   \n",
              "3  7.0569  1009.2  95.249  3.4805  19.792  1059.6  549.99  114.72  10.606   \n",
              "4  7.3978  1009.7  95.150  3.4976  19.765  1059.7  549.98  114.72  10.612   \n",
              "\n",
              "       CO     NOX  \n",
              "0  3.1547  82.722  \n",
              "1  3.2363  82.776  \n",
              "2  3.2012  82.468  \n",
              "3  3.1923  82.670  \n",
              "4  3.2484  82.311  "
            ],
            "text/html": [
              "\n",
              "  <div id=\"df-4d7bfbca-1116-45b0-81cf-7f8e06960f9e\">\n",
              "    <div class=\"colab-df-container\">\n",
              "      <div>\n",
              "<style scoped>\n",
              "    .dataframe tbody tr th:only-of-type {\n",
              "        vertical-align: middle;\n",
              "    }\n",
              "\n",
              "    .dataframe tbody tr th {\n",
              "        vertical-align: top;\n",
              "    }\n",
              "\n",
              "    .dataframe thead th {\n",
              "        text-align: right;\n",
              "    }\n",
              "</style>\n",
              "<table border=\"1\" class=\"dataframe\">\n",
              "  <thead>\n",
              "    <tr style=\"text-align: right;\">\n",
              "      <th></th>\n",
              "      <th>AT</th>\n",
              "      <th>AP</th>\n",
              "      <th>AH</th>\n",
              "      <th>AFDP</th>\n",
              "      <th>GTEP</th>\n",
              "      <th>TIT</th>\n",
              "      <th>TAT</th>\n",
              "      <th>TEY</th>\n",
              "      <th>CDP</th>\n",
              "      <th>CO</th>\n",
              "      <th>NOX</th>\n",
              "    </tr>\n",
              "  </thead>\n",
              "  <tbody>\n",
              "    <tr>\n",
              "      <th>0</th>\n",
              "      <td>6.8594</td>\n",
              "      <td>1007.9</td>\n",
              "      <td>96.799</td>\n",
              "      <td>3.5000</td>\n",
              "      <td>19.663</td>\n",
              "      <td>1059.2</td>\n",
              "      <td>550.00</td>\n",
              "      <td>114.70</td>\n",
              "      <td>10.605</td>\n",
              "      <td>3.1547</td>\n",
              "      <td>82.722</td>\n",
              "    </tr>\n",
              "    <tr>\n",
              "      <th>1</th>\n",
              "      <td>6.7850</td>\n",
              "      <td>1008.4</td>\n",
              "      <td>97.118</td>\n",
              "      <td>3.4998</td>\n",
              "      <td>19.728</td>\n",
              "      <td>1059.3</td>\n",
              "      <td>550.00</td>\n",
              "      <td>114.72</td>\n",
              "      <td>10.598</td>\n",
              "      <td>3.2363</td>\n",
              "      <td>82.776</td>\n",
              "    </tr>\n",
              "    <tr>\n",
              "      <th>2</th>\n",
              "      <td>6.8977</td>\n",
              "      <td>1008.8</td>\n",
              "      <td>95.939</td>\n",
              "      <td>3.4824</td>\n",
              "      <td>19.779</td>\n",
              "      <td>1059.4</td>\n",
              "      <td>549.87</td>\n",
              "      <td>114.71</td>\n",
              "      <td>10.601</td>\n",
              "      <td>3.2012</td>\n",
              "      <td>82.468</td>\n",
              "    </tr>\n",
              "    <tr>\n",
              "      <th>3</th>\n",
              "      <td>7.0569</td>\n",
              "      <td>1009.2</td>\n",
              "      <td>95.249</td>\n",
              "      <td>3.4805</td>\n",
              "      <td>19.792</td>\n",
              "      <td>1059.6</td>\n",
              "      <td>549.99</td>\n",
              "      <td>114.72</td>\n",
              "      <td>10.606</td>\n",
              "      <td>3.1923</td>\n",
              "      <td>82.670</td>\n",
              "    </tr>\n",
              "    <tr>\n",
              "      <th>4</th>\n",
              "      <td>7.3978</td>\n",
              "      <td>1009.7</td>\n",
              "      <td>95.150</td>\n",
              "      <td>3.4976</td>\n",
              "      <td>19.765</td>\n",
              "      <td>1059.7</td>\n",
              "      <td>549.98</td>\n",
              "      <td>114.72</td>\n",
              "      <td>10.612</td>\n",
              "      <td>3.2484</td>\n",
              "      <td>82.311</td>\n",
              "    </tr>\n",
              "  </tbody>\n",
              "</table>\n",
              "</div>\n",
              "      <button class=\"colab-df-convert\" onclick=\"convertToInteractive('df-4d7bfbca-1116-45b0-81cf-7f8e06960f9e')\"\n",
              "              title=\"Convert this dataframe to an interactive table.\"\n",
              "              style=\"display:none;\">\n",
              "        \n",
              "  <svg xmlns=\"http://www.w3.org/2000/svg\" height=\"24px\"viewBox=\"0 0 24 24\"\n",
              "       width=\"24px\">\n",
              "    <path d=\"M0 0h24v24H0V0z\" fill=\"none\"/>\n",
              "    <path d=\"M18.56 5.44l.94 2.06.94-2.06 2.06-.94-2.06-.94-.94-2.06-.94 2.06-2.06.94zm-11 1L8.5 8.5l.94-2.06 2.06-.94-2.06-.94L8.5 2.5l-.94 2.06-2.06.94zm10 10l.94 2.06.94-2.06 2.06-.94-2.06-.94-.94-2.06-.94 2.06-2.06.94z\"/><path d=\"M17.41 7.96l-1.37-1.37c-.4-.4-.92-.59-1.43-.59-.52 0-1.04.2-1.43.59L10.3 9.45l-7.72 7.72c-.78.78-.78 2.05 0 2.83L4 21.41c.39.39.9.59 1.41.59.51 0 1.02-.2 1.41-.59l7.78-7.78 2.81-2.81c.8-.78.8-2.07 0-2.86zM5.41 20L4 18.59l7.72-7.72 1.47 1.35L5.41 20z\"/>\n",
              "  </svg>\n",
              "      </button>\n",
              "      \n",
              "  <style>\n",
              "    .colab-df-container {\n",
              "      display:flex;\n",
              "      flex-wrap:wrap;\n",
              "      gap: 12px;\n",
              "    }\n",
              "\n",
              "    .colab-df-convert {\n",
              "      background-color: #E8F0FE;\n",
              "      border: none;\n",
              "      border-radius: 50%;\n",
              "      cursor: pointer;\n",
              "      display: none;\n",
              "      fill: #1967D2;\n",
              "      height: 32px;\n",
              "      padding: 0 0 0 0;\n",
              "      width: 32px;\n",
              "    }\n",
              "\n",
              "    .colab-df-convert:hover {\n",
              "      background-color: #E2EBFA;\n",
              "      box-shadow: 0px 1px 2px rgba(60, 64, 67, 0.3), 0px 1px 3px 1px rgba(60, 64, 67, 0.15);\n",
              "      fill: #174EA6;\n",
              "    }\n",
              "\n",
              "    [theme=dark] .colab-df-convert {\n",
              "      background-color: #3B4455;\n",
              "      fill: #D2E3FC;\n",
              "    }\n",
              "\n",
              "    [theme=dark] .colab-df-convert:hover {\n",
              "      background-color: #434B5C;\n",
              "      box-shadow: 0px 1px 3px 1px rgba(0, 0, 0, 0.15);\n",
              "      filter: drop-shadow(0px 1px 2px rgba(0, 0, 0, 0.3));\n",
              "      fill: #FFFFFF;\n",
              "    }\n",
              "  </style>\n",
              "\n",
              "      <script>\n",
              "        const buttonEl =\n",
              "          document.querySelector('#df-4d7bfbca-1116-45b0-81cf-7f8e06960f9e button.colab-df-convert');\n",
              "        buttonEl.style.display =\n",
              "          google.colab.kernel.accessAllowed ? 'block' : 'none';\n",
              "\n",
              "        async function convertToInteractive(key) {\n",
              "          const element = document.querySelector('#df-4d7bfbca-1116-45b0-81cf-7f8e06960f9e');\n",
              "          const dataTable =\n",
              "            await google.colab.kernel.invokeFunction('convertToInteractive',\n",
              "                                                     [key], {});\n",
              "          if (!dataTable) return;\n",
              "\n",
              "          const docLinkHtml = 'Like what you see? Visit the ' +\n",
              "            '<a target=\"_blank\" href=https://colab.research.google.com/notebooks/data_table.ipynb>data table notebook</a>'\n",
              "            + ' to learn more about interactive tables.';\n",
              "          element.innerHTML = '';\n",
              "          dataTable['output_type'] = 'display_data';\n",
              "          await google.colab.output.renderOutput(dataTable, element);\n",
              "          const docLink = document.createElement('div');\n",
              "          docLink.innerHTML = docLinkHtml;\n",
              "          element.appendChild(docLink);\n",
              "        }\n",
              "      </script>\n",
              "    </div>\n",
              "  </div>\n",
              "  "
            ]
          },
          "metadata": {},
          "execution_count": 4
        }
      ]
    },
    {
      "cell_type": "code",
      "source": [
        "df= gas.copy() # Removing the dummies at this time\n",
        "df = df.drop(['AFDP','GTEP','TIT','TAT','CDP','CO','NOX'],axis=1)"
      ],
      "metadata": {
        "id": "X-uVAU7TZNfT"
      },
      "execution_count": null,
      "outputs": []
    },
    {
      "cell_type": "code",
      "source": [
        "df.shape"
      ],
      "metadata": {
        "id": "a45uGYXNZNgr",
        "colab": {
          "base_uri": "https://localhost:8080/"
        },
        "outputId": "60cc1165-084a-4400-efba-36218f068629"
      },
      "execution_count": null,
      "outputs": [
        {
          "output_type": "execute_result",
          "data": {
            "text/plain": [
              "(15039, 4)"
            ]
          },
          "metadata": {},
          "execution_count": 6
        }
      ]
    },
    {
      "cell_type": "code",
      "source": [
        "df.head()"
      ],
      "metadata": {
        "id": "jwFJb5yAZNl-",
        "colab": {
          "base_uri": "https://localhost:8080/",
          "height": 206
        },
        "outputId": "b4e0eba6-5eef-4a88-a993-a871906e26fd"
      },
      "execution_count": null,
      "outputs": [
        {
          "output_type": "execute_result",
          "data": {
            "text/plain": [
              "       AT      AP      AH     TEY\n",
              "0  6.8594  1007.9  96.799  114.70\n",
              "1  6.7850  1008.4  97.118  114.72\n",
              "2  6.8977  1008.8  95.939  114.71\n",
              "3  7.0569  1009.2  95.249  114.72\n",
              "4  7.3978  1009.7  95.150  114.72"
            ],
            "text/html": [
              "\n",
              "  <div id=\"df-e3b955e0-69d5-47eb-b6d0-b5578268853d\">\n",
              "    <div class=\"colab-df-container\">\n",
              "      <div>\n",
              "<style scoped>\n",
              "    .dataframe tbody tr th:only-of-type {\n",
              "        vertical-align: middle;\n",
              "    }\n",
              "\n",
              "    .dataframe tbody tr th {\n",
              "        vertical-align: top;\n",
              "    }\n",
              "\n",
              "    .dataframe thead th {\n",
              "        text-align: right;\n",
              "    }\n",
              "</style>\n",
              "<table border=\"1\" class=\"dataframe\">\n",
              "  <thead>\n",
              "    <tr style=\"text-align: right;\">\n",
              "      <th></th>\n",
              "      <th>AT</th>\n",
              "      <th>AP</th>\n",
              "      <th>AH</th>\n",
              "      <th>TEY</th>\n",
              "    </tr>\n",
              "  </thead>\n",
              "  <tbody>\n",
              "    <tr>\n",
              "      <th>0</th>\n",
              "      <td>6.8594</td>\n",
              "      <td>1007.9</td>\n",
              "      <td>96.799</td>\n",
              "      <td>114.70</td>\n",
              "    </tr>\n",
              "    <tr>\n",
              "      <th>1</th>\n",
              "      <td>6.7850</td>\n",
              "      <td>1008.4</td>\n",
              "      <td>97.118</td>\n",
              "      <td>114.72</td>\n",
              "    </tr>\n",
              "    <tr>\n",
              "      <th>2</th>\n",
              "      <td>6.8977</td>\n",
              "      <td>1008.8</td>\n",
              "      <td>95.939</td>\n",
              "      <td>114.71</td>\n",
              "    </tr>\n",
              "    <tr>\n",
              "      <th>3</th>\n",
              "      <td>7.0569</td>\n",
              "      <td>1009.2</td>\n",
              "      <td>95.249</td>\n",
              "      <td>114.72</td>\n",
              "    </tr>\n",
              "    <tr>\n",
              "      <th>4</th>\n",
              "      <td>7.3978</td>\n",
              "      <td>1009.7</td>\n",
              "      <td>95.150</td>\n",
              "      <td>114.72</td>\n",
              "    </tr>\n",
              "  </tbody>\n",
              "</table>\n",
              "</div>\n",
              "      <button class=\"colab-df-convert\" onclick=\"convertToInteractive('df-e3b955e0-69d5-47eb-b6d0-b5578268853d')\"\n",
              "              title=\"Convert this dataframe to an interactive table.\"\n",
              "              style=\"display:none;\">\n",
              "        \n",
              "  <svg xmlns=\"http://www.w3.org/2000/svg\" height=\"24px\"viewBox=\"0 0 24 24\"\n",
              "       width=\"24px\">\n",
              "    <path d=\"M0 0h24v24H0V0z\" fill=\"none\"/>\n",
              "    <path d=\"M18.56 5.44l.94 2.06.94-2.06 2.06-.94-2.06-.94-.94-2.06-.94 2.06-2.06.94zm-11 1L8.5 8.5l.94-2.06 2.06-.94-2.06-.94L8.5 2.5l-.94 2.06-2.06.94zm10 10l.94 2.06.94-2.06 2.06-.94-2.06-.94-.94-2.06-.94 2.06-2.06.94z\"/><path d=\"M17.41 7.96l-1.37-1.37c-.4-.4-.92-.59-1.43-.59-.52 0-1.04.2-1.43.59L10.3 9.45l-7.72 7.72c-.78.78-.78 2.05 0 2.83L4 21.41c.39.39.9.59 1.41.59.51 0 1.02-.2 1.41-.59l7.78-7.78 2.81-2.81c.8-.78.8-2.07 0-2.86zM5.41 20L4 18.59l7.72-7.72 1.47 1.35L5.41 20z\"/>\n",
              "  </svg>\n",
              "      </button>\n",
              "      \n",
              "  <style>\n",
              "    .colab-df-container {\n",
              "      display:flex;\n",
              "      flex-wrap:wrap;\n",
              "      gap: 12px;\n",
              "    }\n",
              "\n",
              "    .colab-df-convert {\n",
              "      background-color: #E8F0FE;\n",
              "      border: none;\n",
              "      border-radius: 50%;\n",
              "      cursor: pointer;\n",
              "      display: none;\n",
              "      fill: #1967D2;\n",
              "      height: 32px;\n",
              "      padding: 0 0 0 0;\n",
              "      width: 32px;\n",
              "    }\n",
              "\n",
              "    .colab-df-convert:hover {\n",
              "      background-color: #E2EBFA;\n",
              "      box-shadow: 0px 1px 2px rgba(60, 64, 67, 0.3), 0px 1px 3px 1px rgba(60, 64, 67, 0.15);\n",
              "      fill: #174EA6;\n",
              "    }\n",
              "\n",
              "    [theme=dark] .colab-df-convert {\n",
              "      background-color: #3B4455;\n",
              "      fill: #D2E3FC;\n",
              "    }\n",
              "\n",
              "    [theme=dark] .colab-df-convert:hover {\n",
              "      background-color: #434B5C;\n",
              "      box-shadow: 0px 1px 3px 1px rgba(0, 0, 0, 0.15);\n",
              "      filter: drop-shadow(0px 1px 2px rgba(0, 0, 0, 0.3));\n",
              "      fill: #FFFFFF;\n",
              "    }\n",
              "  </style>\n",
              "\n",
              "      <script>\n",
              "        const buttonEl =\n",
              "          document.querySelector('#df-e3b955e0-69d5-47eb-b6d0-b5578268853d button.colab-df-convert');\n",
              "        buttonEl.style.display =\n",
              "          google.colab.kernel.accessAllowed ? 'block' : 'none';\n",
              "\n",
              "        async function convertToInteractive(key) {\n",
              "          const element = document.querySelector('#df-e3b955e0-69d5-47eb-b6d0-b5578268853d');\n",
              "          const dataTable =\n",
              "            await google.colab.kernel.invokeFunction('convertToInteractive',\n",
              "                                                     [key], {});\n",
              "          if (!dataTable) return;\n",
              "\n",
              "          const docLinkHtml = 'Like what you see? Visit the ' +\n",
              "            '<a target=\"_blank\" href=https://colab.research.google.com/notebooks/data_table.ipynb>data table notebook</a>'\n",
              "            + ' to learn more about interactive tables.';\n",
              "          element.innerHTML = '';\n",
              "          dataTable['output_type'] = 'display_data';\n",
              "          await google.colab.output.renderOutput(dataTable, element);\n",
              "          const docLink = document.createElement('div');\n",
              "          docLink.innerHTML = docLinkHtml;\n",
              "          element.appendChild(docLink);\n",
              "        }\n",
              "      </script>\n",
              "    </div>\n",
              "  </div>\n",
              "  "
            ]
          },
          "metadata": {},
          "execution_count": 7
        }
      ]
    },
    {
      "cell_type": "code",
      "source": [
        "df.info()"
      ],
      "metadata": {
        "id": "XXDckwBAZNn1",
        "colab": {
          "base_uri": "https://localhost:8080/"
        },
        "outputId": "0aa5ca42-e19c-411a-b7cc-c66a2c5ad518"
      },
      "execution_count": null,
      "outputs": [
        {
          "output_type": "stream",
          "name": "stdout",
          "text": [
            "<class 'pandas.core.frame.DataFrame'>\n",
            "RangeIndex: 15039 entries, 0 to 15038\n",
            "Data columns (total 4 columns):\n",
            " #   Column  Non-Null Count  Dtype  \n",
            "---  ------  --------------  -----  \n",
            " 0   AT      15039 non-null  float64\n",
            " 1   AP      15039 non-null  float64\n",
            " 2   AH      15039 non-null  float64\n",
            " 3   TEY     15039 non-null  float64\n",
            "dtypes: float64(4)\n",
            "memory usage: 470.1 KB\n"
          ]
        }
      ]
    },
    {
      "cell_type": "code",
      "source": [
        "df.columns"
      ],
      "metadata": {
        "id": "FJOjbMSQZNtI",
        "colab": {
          "base_uri": "https://localhost:8080/"
        },
        "outputId": "0f554934-c99e-4404-8afc-a009a01f3470"
      },
      "execution_count": null,
      "outputs": [
        {
          "output_type": "execute_result",
          "data": {
            "text/plain": [
              "Index(['AT', 'AP', 'AH', 'TEY'], dtype='object')"
            ]
          },
          "metadata": {},
          "execution_count": 9
        }
      ]
    },
    {
      "cell_type": "code",
      "source": [
        "df.isnull().sum()"
      ],
      "metadata": {
        "id": "pvokRt_lZNzA",
        "colab": {
          "base_uri": "https://localhost:8080/"
        },
        "outputId": "b17f7a0b-91e7-49f7-833c-b22c08fcf072"
      },
      "execution_count": null,
      "outputs": [
        {
          "output_type": "execute_result",
          "data": {
            "text/plain": [
              "AT     0\n",
              "AP     0\n",
              "AH     0\n",
              "TEY    0\n",
              "dtype: int64"
            ]
          },
          "metadata": {},
          "execution_count": 10
        }
      ]
    },
    {
      "cell_type": "code",
      "source": [
        "df.describe()"
      ],
      "metadata": {
        "colab": {
          "base_uri": "https://localhost:8080/",
          "height": 300
        },
        "id": "rTkQHJHcz34H",
        "outputId": "a315a82f-f5a6-4314-d665-cdf742e3532e"
      },
      "execution_count": null,
      "outputs": [
        {
          "output_type": "execute_result",
          "data": {
            "text/plain": [
              "                 AT           AP            AH           TEY\n",
              "count  15039.000000  15039.00000  15039.000000  15039.000000\n",
              "mean      17.764381   1013.19924     79.124174    134.188464\n",
              "std        7.574323      6.41076     13.793439     15.829717\n",
              "min        0.522300    985.85000     30.344000    100.170000\n",
              "25%       11.408000   1008.90000     69.750000    127.985000\n",
              "50%       18.186000   1012.80000     82.266000    133.780000\n",
              "75%       23.862500   1016.90000     90.043500    140.895000\n",
              "max       34.929000   1034.20000    100.200000    174.610000"
            ],
            "text/html": [
              "\n",
              "  <div id=\"df-e3af8b5a-d206-4d93-9e26-3bda60524bc7\">\n",
              "    <div class=\"colab-df-container\">\n",
              "      <div>\n",
              "<style scoped>\n",
              "    .dataframe tbody tr th:only-of-type {\n",
              "        vertical-align: middle;\n",
              "    }\n",
              "\n",
              "    .dataframe tbody tr th {\n",
              "        vertical-align: top;\n",
              "    }\n",
              "\n",
              "    .dataframe thead th {\n",
              "        text-align: right;\n",
              "    }\n",
              "</style>\n",
              "<table border=\"1\" class=\"dataframe\">\n",
              "  <thead>\n",
              "    <tr style=\"text-align: right;\">\n",
              "      <th></th>\n",
              "      <th>AT</th>\n",
              "      <th>AP</th>\n",
              "      <th>AH</th>\n",
              "      <th>TEY</th>\n",
              "    </tr>\n",
              "  </thead>\n",
              "  <tbody>\n",
              "    <tr>\n",
              "      <th>count</th>\n",
              "      <td>15039.000000</td>\n",
              "      <td>15039.00000</td>\n",
              "      <td>15039.000000</td>\n",
              "      <td>15039.000000</td>\n",
              "    </tr>\n",
              "    <tr>\n",
              "      <th>mean</th>\n",
              "      <td>17.764381</td>\n",
              "      <td>1013.19924</td>\n",
              "      <td>79.124174</td>\n",
              "      <td>134.188464</td>\n",
              "    </tr>\n",
              "    <tr>\n",
              "      <th>std</th>\n",
              "      <td>7.574323</td>\n",
              "      <td>6.41076</td>\n",
              "      <td>13.793439</td>\n",
              "      <td>15.829717</td>\n",
              "    </tr>\n",
              "    <tr>\n",
              "      <th>min</th>\n",
              "      <td>0.522300</td>\n",
              "      <td>985.85000</td>\n",
              "      <td>30.344000</td>\n",
              "      <td>100.170000</td>\n",
              "    </tr>\n",
              "    <tr>\n",
              "      <th>25%</th>\n",
              "      <td>11.408000</td>\n",
              "      <td>1008.90000</td>\n",
              "      <td>69.750000</td>\n",
              "      <td>127.985000</td>\n",
              "    </tr>\n",
              "    <tr>\n",
              "      <th>50%</th>\n",
              "      <td>18.186000</td>\n",
              "      <td>1012.80000</td>\n",
              "      <td>82.266000</td>\n",
              "      <td>133.780000</td>\n",
              "    </tr>\n",
              "    <tr>\n",
              "      <th>75%</th>\n",
              "      <td>23.862500</td>\n",
              "      <td>1016.90000</td>\n",
              "      <td>90.043500</td>\n",
              "      <td>140.895000</td>\n",
              "    </tr>\n",
              "    <tr>\n",
              "      <th>max</th>\n",
              "      <td>34.929000</td>\n",
              "      <td>1034.20000</td>\n",
              "      <td>100.200000</td>\n",
              "      <td>174.610000</td>\n",
              "    </tr>\n",
              "  </tbody>\n",
              "</table>\n",
              "</div>\n",
              "      <button class=\"colab-df-convert\" onclick=\"convertToInteractive('df-e3af8b5a-d206-4d93-9e26-3bda60524bc7')\"\n",
              "              title=\"Convert this dataframe to an interactive table.\"\n",
              "              style=\"display:none;\">\n",
              "        \n",
              "  <svg xmlns=\"http://www.w3.org/2000/svg\" height=\"24px\"viewBox=\"0 0 24 24\"\n",
              "       width=\"24px\">\n",
              "    <path d=\"M0 0h24v24H0V0z\" fill=\"none\"/>\n",
              "    <path d=\"M18.56 5.44l.94 2.06.94-2.06 2.06-.94-2.06-.94-.94-2.06-.94 2.06-2.06.94zm-11 1L8.5 8.5l.94-2.06 2.06-.94-2.06-.94L8.5 2.5l-.94 2.06-2.06.94zm10 10l.94 2.06.94-2.06 2.06-.94-2.06-.94-.94-2.06-.94 2.06-2.06.94z\"/><path d=\"M17.41 7.96l-1.37-1.37c-.4-.4-.92-.59-1.43-.59-.52 0-1.04.2-1.43.59L10.3 9.45l-7.72 7.72c-.78.78-.78 2.05 0 2.83L4 21.41c.39.39.9.59 1.41.59.51 0 1.02-.2 1.41-.59l7.78-7.78 2.81-2.81c.8-.78.8-2.07 0-2.86zM5.41 20L4 18.59l7.72-7.72 1.47 1.35L5.41 20z\"/>\n",
              "  </svg>\n",
              "      </button>\n",
              "      \n",
              "  <style>\n",
              "    .colab-df-container {\n",
              "      display:flex;\n",
              "      flex-wrap:wrap;\n",
              "      gap: 12px;\n",
              "    }\n",
              "\n",
              "    .colab-df-convert {\n",
              "      background-color: #E8F0FE;\n",
              "      border: none;\n",
              "      border-radius: 50%;\n",
              "      cursor: pointer;\n",
              "      display: none;\n",
              "      fill: #1967D2;\n",
              "      height: 32px;\n",
              "      padding: 0 0 0 0;\n",
              "      width: 32px;\n",
              "    }\n",
              "\n",
              "    .colab-df-convert:hover {\n",
              "      background-color: #E2EBFA;\n",
              "      box-shadow: 0px 1px 2px rgba(60, 64, 67, 0.3), 0px 1px 3px 1px rgba(60, 64, 67, 0.15);\n",
              "      fill: #174EA6;\n",
              "    }\n",
              "\n",
              "    [theme=dark] .colab-df-convert {\n",
              "      background-color: #3B4455;\n",
              "      fill: #D2E3FC;\n",
              "    }\n",
              "\n",
              "    [theme=dark] .colab-df-convert:hover {\n",
              "      background-color: #434B5C;\n",
              "      box-shadow: 0px 1px 3px 1px rgba(0, 0, 0, 0.15);\n",
              "      filter: drop-shadow(0px 1px 2px rgba(0, 0, 0, 0.3));\n",
              "      fill: #FFFFFF;\n",
              "    }\n",
              "  </style>\n",
              "\n",
              "      <script>\n",
              "        const buttonEl =\n",
              "          document.querySelector('#df-e3af8b5a-d206-4d93-9e26-3bda60524bc7 button.colab-df-convert');\n",
              "        buttonEl.style.display =\n",
              "          google.colab.kernel.accessAllowed ? 'block' : 'none';\n",
              "\n",
              "        async function convertToInteractive(key) {\n",
              "          const element = document.querySelector('#df-e3af8b5a-d206-4d93-9e26-3bda60524bc7');\n",
              "          const dataTable =\n",
              "            await google.colab.kernel.invokeFunction('convertToInteractive',\n",
              "                                                     [key], {});\n",
              "          if (!dataTable) return;\n",
              "\n",
              "          const docLinkHtml = 'Like what you see? Visit the ' +\n",
              "            '<a target=\"_blank\" href=https://colab.research.google.com/notebooks/data_table.ipynb>data table notebook</a>'\n",
              "            + ' to learn more about interactive tables.';\n",
              "          element.innerHTML = '';\n",
              "          dataTable['output_type'] = 'display_data';\n",
              "          await google.colab.output.renderOutput(dataTable, element);\n",
              "          const docLink = document.createElement('div');\n",
              "          docLink.innerHTML = docLinkHtml;\n",
              "          element.appendChild(docLink);\n",
              "        }\n",
              "      </script>\n",
              "    </div>\n",
              "  </div>\n",
              "  "
            ]
          },
          "metadata": {},
          "execution_count": 11
        }
      ]
    },
    {
      "cell_type": "markdown",
      "source": [
        "# 2. Feature Analysis"
      ],
      "metadata": {
        "id": "0sAQzYxF4RGr"
      }
    },
    {
      "cell_type": "markdown",
      "source": [
        "All features in the dataset can be used in model building. This is a Regression Problem."
      ],
      "metadata": {
        "id": "VqCKUlKbz_y7"
      }
    },
    {
      "cell_type": "markdown",
      "source": [
        "# Train-Test split dataset"
      ],
      "metadata": {
        "id": "1luixZcN7Waj"
      }
    },
    {
      "cell_type": "code",
      "source": [
        "X= df.iloc[:,:-1]\n",
        "Y= df.iloc[:,-1]\n",
        "X_train, X_test, y_train, y_test= train_test_split(X,Y, test_size= 0.3)"
      ],
      "metadata": {
        "id": "W4qvtbP2ZOF0"
      },
      "execution_count": null,
      "outputs": []
    },
    {
      "cell_type": "code",
      "source": [
        "y_train= np.reshape(y_train.to_numpy(), (-1,1))\n",
        "y_test= np.reshape(y_test.to_numpy(), (-1,1))"
      ],
      "metadata": {
        "id": "SUhF08bK0udi"
      },
      "execution_count": null,
      "outputs": []
    },
    {
      "cell_type": "code",
      "source": [
        "from sklearn.preprocessing import MinMaxScaler\n",
        "\n",
        "scaler_x= MinMaxScaler()\n",
        "scaler_y= MinMaxScaler()\n",
        "\n",
        "print(scaler_x.fit(X_train))\n",
        "xtrain_scale= scaler_x.transform(X_train)\n",
        "\n",
        "print(scaler_x.fit(X_test))\n",
        "xtest_scale= scaler_x.transform(X_test)\n",
        "\n",
        "print(scaler_y.fit(y_train))\n",
        "ytrain_scale= scaler_y.transform(y_train)\n",
        "\n",
        "print(scaler_y.fit(y_test))\n",
        "ytest_scale= scaler_y.transform(y_test)"
      ],
      "metadata": {
        "colab": {
          "base_uri": "https://localhost:8080/"
        },
        "id": "yL-Lb9DH1ao8",
        "outputId": "34043312-f77c-42bb-e9f8-4177157af120"
      },
      "execution_count": null,
      "outputs": [
        {
          "output_type": "stream",
          "name": "stdout",
          "text": [
            "MinMaxScaler()\n",
            "MinMaxScaler()\n",
            "MinMaxScaler()\n",
            "MinMaxScaler()\n"
          ]
        }
      ]
    },
    {
      "cell_type": "code",
      "source": [
        "len(xtrain_scale)"
      ],
      "metadata": {
        "colab": {
          "base_uri": "https://localhost:8080/"
        },
        "id": "mqa5C6FC0ua0",
        "outputId": "bfa944cf-a559-400d-8b91-c1149bf1a39c"
      },
      "execution_count": null,
      "outputs": [
        {
          "output_type": "execute_result",
          "data": {
            "text/plain": [
              "10527"
            ]
          },
          "metadata": {},
          "execution_count": 17
        }
      ]
    },
    {
      "cell_type": "markdown",
      "source": [
        "# 3. Neural Network Modeling\n",
        "## Building the model"
      ],
      "metadata": {
        "id": "Q_aCjmq-Zdit"
      }
    },
    {
      "cell_type": "code",
      "source": [
        "# create model\n",
        "model1= Sequential()\n",
        "model1.add(Dense(4, input_dim= 3, kernel_initializer= 'normal', activation= 'relu'))\n",
        "model1.add(Dense(2106, kernel_initializer= 'normal', activation= 'relu'))\n",
        "model1.add(Dense(1, activation= 'linear'))\n",
        "\n",
        "# Compile model\n",
        "model1.compile(loss= 'mean_squared_error', optimizer= 'adam', metrics= ['mse', 'mae'])\n",
        "\n",
        "# Fit the model\n",
        "hist1= model1.fit(xtrain_scale, ytrain_scale, validation_split= 0.33, epochs= 100, batch_size= 150)\n",
        "# At epoch 50, mse and mae just keeps oscillating back and forth"
      ],
      "metadata": {
        "id": "pnPrfRvmZOHi",
        "colab": {
          "base_uri": "https://localhost:8080/"
        },
        "outputId": "c6776138-c770-452a-8be2-741cb81b060a"
      },
      "execution_count": null,
      "outputs": [
        {
          "output_type": "stream",
          "name": "stdout",
          "text": [
            "Epoch 1/100\n",
            "48/48 [==============================] - 2s 18ms/step - loss: 0.0724 - mse: 0.0724 - mae: 0.2073 - val_loss: 0.0459 - val_mse: 0.0459 - val_mae: 0.1569\n",
            "Epoch 2/100\n",
            "48/48 [==============================] - 0s 6ms/step - loss: 0.0461 - mse: 0.0461 - mae: 0.1570 - val_loss: 0.0449 - val_mse: 0.0449 - val_mae: 0.1530\n",
            "Epoch 3/100\n",
            "48/48 [==============================] - 0s 6ms/step - loss: 0.0447 - mse: 0.0447 - mae: 0.1543 - val_loss: 0.0436 - val_mse: 0.0436 - val_mae: 0.1555\n",
            "Epoch 4/100\n",
            "48/48 [==============================] - 0s 6ms/step - loss: 0.0434 - mse: 0.0434 - mae: 0.1573 - val_loss: 0.0424 - val_mse: 0.0424 - val_mae: 0.1602\n",
            "Epoch 5/100\n",
            "48/48 [==============================] - 0s 6ms/step - loss: 0.0427 - mse: 0.0427 - mae: 0.1604 - val_loss: 0.0415 - val_mse: 0.0415 - val_mae: 0.1587\n",
            "Epoch 6/100\n",
            "48/48 [==============================] - 0s 6ms/step - loss: 0.0419 - mse: 0.0419 - mae: 0.1598 - val_loss: 0.0414 - val_mse: 0.0414 - val_mae: 0.1600\n",
            "Epoch 7/100\n",
            "48/48 [==============================] - 0s 6ms/step - loss: 0.0413 - mse: 0.0413 - mae: 0.1595 - val_loss: 0.0408 - val_mse: 0.0408 - val_mae: 0.1582\n",
            "Epoch 8/100\n",
            "48/48 [==============================] - 0s 6ms/step - loss: 0.0410 - mse: 0.0410 - mae: 0.1585 - val_loss: 0.0414 - val_mse: 0.0414 - val_mae: 0.1621\n",
            "Epoch 9/100\n",
            "48/48 [==============================] - 0s 6ms/step - loss: 0.0418 - mse: 0.0418 - mae: 0.1606 - val_loss: 0.0402 - val_mse: 0.0402 - val_mae: 0.1572\n",
            "Epoch 10/100\n",
            "48/48 [==============================] - 0s 6ms/step - loss: 0.0407 - mse: 0.0407 - mae: 0.1584 - val_loss: 0.0398 - val_mse: 0.0398 - val_mae: 0.1579\n",
            "Epoch 11/100\n",
            "48/48 [==============================] - 0s 6ms/step - loss: 0.0409 - mse: 0.0409 - mae: 0.1593 - val_loss: 0.0403 - val_mse: 0.0403 - val_mae: 0.1586\n",
            "Epoch 12/100\n",
            "48/48 [==============================] - 0s 6ms/step - loss: 0.0404 - mse: 0.0404 - mae: 0.1579 - val_loss: 0.0396 - val_mse: 0.0396 - val_mae: 0.1578\n",
            "Epoch 13/100\n",
            "48/48 [==============================] - 0s 9ms/step - loss: 0.0400 - mse: 0.0400 - mae: 0.1575 - val_loss: 0.0401 - val_mse: 0.0401 - val_mae: 0.1592\n",
            "Epoch 14/100\n",
            "48/48 [==============================] - 0s 8ms/step - loss: 0.0400 - mse: 0.0400 - mae: 0.1580 - val_loss: 0.0396 - val_mse: 0.0396 - val_mae: 0.1576\n",
            "Epoch 15/100\n",
            "48/48 [==============================] - 1s 11ms/step - loss: 0.0400 - mse: 0.0400 - mae: 0.1581 - val_loss: 0.0396 - val_mse: 0.0396 - val_mae: 0.1576\n",
            "Epoch 16/100\n",
            "48/48 [==============================] - 0s 9ms/step - loss: 0.0397 - mse: 0.0397 - mae: 0.1576 - val_loss: 0.0394 - val_mse: 0.0394 - val_mae: 0.1579\n",
            "Epoch 17/100\n",
            "48/48 [==============================] - 1s 11ms/step - loss: 0.0398 - mse: 0.0398 - mae: 0.1580 - val_loss: 0.0394 - val_mse: 0.0394 - val_mae: 0.1586\n",
            "Epoch 18/100\n",
            "48/48 [==============================] - 0s 10ms/step - loss: 0.0396 - mse: 0.0396 - mae: 0.1579 - val_loss: 0.0393 - val_mse: 0.0393 - val_mae: 0.1579\n",
            "Epoch 19/100\n",
            "48/48 [==============================] - 0s 6ms/step - loss: 0.0398 - mse: 0.0398 - mae: 0.1583 - val_loss: 0.0393 - val_mse: 0.0393 - val_mae: 0.1573\n",
            "Epoch 20/100\n",
            "48/48 [==============================] - 0s 6ms/step - loss: 0.0400 - mse: 0.0400 - mae: 0.1587 - val_loss: 0.0394 - val_mse: 0.0394 - val_mae: 0.1580\n",
            "Epoch 21/100\n",
            "48/48 [==============================] - 0s 6ms/step - loss: 0.0396 - mse: 0.0396 - mae: 0.1578 - val_loss: 0.0401 - val_mse: 0.0401 - val_mae: 0.1602\n",
            "Epoch 22/100\n",
            "48/48 [==============================] - 0s 7ms/step - loss: 0.0402 - mse: 0.0402 - mae: 0.1598 - val_loss: 0.0407 - val_mse: 0.0407 - val_mae: 0.1619\n",
            "Epoch 23/100\n",
            "48/48 [==============================] - 0s 6ms/step - loss: 0.0398 - mse: 0.0398 - mae: 0.1579 - val_loss: 0.0394 - val_mse: 0.0394 - val_mae: 0.1578\n",
            "Epoch 24/100\n",
            "48/48 [==============================] - 0s 6ms/step - loss: 0.0395 - mse: 0.0395 - mae: 0.1577 - val_loss: 0.0399 - val_mse: 0.0399 - val_mae: 0.1586\n",
            "Epoch 25/100\n",
            "48/48 [==============================] - 0s 6ms/step - loss: 0.0398 - mse: 0.0398 - mae: 0.1580 - val_loss: 0.0391 - val_mse: 0.0391 - val_mae: 0.1566\n",
            "Epoch 26/100\n",
            "48/48 [==============================] - 0s 6ms/step - loss: 0.0398 - mse: 0.0398 - mae: 0.1584 - val_loss: 0.0400 - val_mse: 0.0400 - val_mae: 0.1594\n",
            "Epoch 27/100\n",
            "48/48 [==============================] - 0s 6ms/step - loss: 0.0396 - mse: 0.0396 - mae: 0.1575 - val_loss: 0.0391 - val_mse: 0.0391 - val_mae: 0.1574\n",
            "Epoch 28/100\n",
            "48/48 [==============================] - 0s 6ms/step - loss: 0.0397 - mse: 0.0397 - mae: 0.1584 - val_loss: 0.0392 - val_mse: 0.0392 - val_mae: 0.1574\n",
            "Epoch 29/100\n",
            "48/48 [==============================] - 1s 15ms/step - loss: 0.0393 - mse: 0.0393 - mae: 0.1566 - val_loss: 0.0390 - val_mse: 0.0390 - val_mae: 0.1562\n",
            "Epoch 30/100\n",
            "48/48 [==============================] - 1s 14ms/step - loss: 0.0393 - mse: 0.0393 - mae: 0.1564 - val_loss: 0.0393 - val_mse: 0.0393 - val_mae: 0.1563\n",
            "Epoch 31/100\n",
            "48/48 [==============================] - 0s 10ms/step - loss: 0.0395 - mse: 0.0395 - mae: 0.1571 - val_loss: 0.0392 - val_mse: 0.0392 - val_mae: 0.1559\n",
            "Epoch 32/100\n",
            "48/48 [==============================] - 1s 14ms/step - loss: 0.0391 - mse: 0.0391 - mae: 0.1563 - val_loss: 0.0391 - val_mse: 0.0391 - val_mae: 0.1571\n",
            "Epoch 33/100\n",
            "48/48 [==============================] - 1s 18ms/step - loss: 0.0395 - mse: 0.0395 - mae: 0.1571 - val_loss: 0.0389 - val_mse: 0.0389 - val_mae: 0.1554\n",
            "Epoch 34/100\n",
            "48/48 [==============================] - 0s 7ms/step - loss: 0.0394 - mse: 0.0394 - mae: 0.1563 - val_loss: 0.0388 - val_mse: 0.0388 - val_mae: 0.1549\n",
            "Epoch 35/100\n",
            "48/48 [==============================] - 0s 6ms/step - loss: 0.0392 - mse: 0.0392 - mae: 0.1555 - val_loss: 0.0391 - val_mse: 0.0391 - val_mae: 0.1571\n",
            "Epoch 36/100\n",
            "48/48 [==============================] - 0s 6ms/step - loss: 0.0392 - mse: 0.0392 - mae: 0.1557 - val_loss: 0.0427 - val_mse: 0.0427 - val_mae: 0.1669\n",
            "Epoch 37/100\n",
            "48/48 [==============================] - 0s 6ms/step - loss: 0.0401 - mse: 0.0401 - mae: 0.1581 - val_loss: 0.0387 - val_mse: 0.0387 - val_mae: 0.1550\n",
            "Epoch 38/100\n",
            "48/48 [==============================] - 0s 6ms/step - loss: 0.0391 - mse: 0.0391 - mae: 0.1558 - val_loss: 0.0388 - val_mse: 0.0388 - val_mae: 0.1559\n",
            "Epoch 39/100\n",
            "48/48 [==============================] - 0s 6ms/step - loss: 0.0390 - mse: 0.0390 - mae: 0.1548 - val_loss: 0.0390 - val_mse: 0.0390 - val_mae: 0.1560\n",
            "Epoch 40/100\n",
            "48/48 [==============================] - 0s 6ms/step - loss: 0.0399 - mse: 0.0399 - mae: 0.1576 - val_loss: 0.0405 - val_mse: 0.0405 - val_mae: 0.1620\n",
            "Epoch 41/100\n",
            "48/48 [==============================] - 0s 6ms/step - loss: 0.0397 - mse: 0.0397 - mae: 0.1571 - val_loss: 0.0391 - val_mse: 0.0391 - val_mae: 0.1566\n",
            "Epoch 42/100\n",
            "48/48 [==============================] - 0s 6ms/step - loss: 0.0391 - mse: 0.0391 - mae: 0.1566 - val_loss: 0.0387 - val_mse: 0.0387 - val_mae: 0.1553\n",
            "Epoch 43/100\n",
            "48/48 [==============================] - 0s 6ms/step - loss: 0.0391 - mse: 0.0391 - mae: 0.1558 - val_loss: 0.0391 - val_mse: 0.0391 - val_mae: 0.1567\n",
            "Epoch 44/100\n",
            "48/48 [==============================] - 0s 6ms/step - loss: 0.0393 - mse: 0.0393 - mae: 0.1561 - val_loss: 0.0387 - val_mse: 0.0387 - val_mae: 0.1556\n",
            "Epoch 45/100\n",
            "48/48 [==============================] - 0s 6ms/step - loss: 0.0392 - mse: 0.0392 - mae: 0.1562 - val_loss: 0.0387 - val_mse: 0.0387 - val_mae: 0.1556\n",
            "Epoch 46/100\n",
            "48/48 [==============================] - 0s 10ms/step - loss: 0.0393 - mse: 0.0393 - mae: 0.1564 - val_loss: 0.0386 - val_mse: 0.0386 - val_mae: 0.1553\n",
            "Epoch 47/100\n",
            "48/48 [==============================] - 1s 11ms/step - loss: 0.0388 - mse: 0.0388 - mae: 0.1550 - val_loss: 0.0392 - val_mse: 0.0392 - val_mae: 0.1563\n",
            "Epoch 48/100\n",
            "48/48 [==============================] - 1s 16ms/step - loss: 0.0389 - mse: 0.0389 - mae: 0.1551 - val_loss: 0.0387 - val_mse: 0.0387 - val_mae: 0.1559\n",
            "Epoch 49/100\n",
            "48/48 [==============================] - 1s 16ms/step - loss: 0.0388 - mse: 0.0388 - mae: 0.1550 - val_loss: 0.0385 - val_mse: 0.0385 - val_mae: 0.1542\n",
            "Epoch 50/100\n",
            "48/48 [==============================] - 1s 13ms/step - loss: 0.0389 - mse: 0.0389 - mae: 0.1547 - val_loss: 0.0405 - val_mse: 0.0405 - val_mae: 0.1608\n",
            "Epoch 51/100\n",
            "48/48 [==============================] - 0s 10ms/step - loss: 0.0405 - mse: 0.0405 - mae: 0.1588 - val_loss: 0.0386 - val_mse: 0.0386 - val_mae: 0.1550\n",
            "Epoch 52/100\n",
            "48/48 [==============================] - 1s 11ms/step - loss: 0.0387 - mse: 0.0387 - mae: 0.1546 - val_loss: 0.0386 - val_mse: 0.0386 - val_mae: 0.1545\n",
            "Epoch 53/100\n",
            "48/48 [==============================] - 0s 7ms/step - loss: 0.0389 - mse: 0.0389 - mae: 0.1557 - val_loss: 0.0397 - val_mse: 0.0397 - val_mae: 0.1576\n",
            "Epoch 54/100\n",
            "48/48 [==============================] - 0s 6ms/step - loss: 0.0392 - mse: 0.0392 - mae: 0.1547 - val_loss: 0.0393 - val_mse: 0.0393 - val_mae: 0.1578\n",
            "Epoch 55/100\n",
            "48/48 [==============================] - 0s 6ms/step - loss: 0.0387 - mse: 0.0387 - mae: 0.1552 - val_loss: 0.0384 - val_mse: 0.0384 - val_mae: 0.1532\n",
            "Epoch 56/100\n",
            "48/48 [==============================] - 0s 7ms/step - loss: 0.0386 - mse: 0.0386 - mae: 0.1533 - val_loss: 0.0387 - val_mse: 0.0387 - val_mae: 0.1554\n",
            "Epoch 57/100\n",
            "48/48 [==============================] - 0s 6ms/step - loss: 0.0395 - mse: 0.0395 - mae: 0.1562 - val_loss: 0.0389 - val_mse: 0.0389 - val_mae: 0.1562\n",
            "Epoch 58/100\n",
            "48/48 [==============================] - 0s 6ms/step - loss: 0.0390 - mse: 0.0390 - mae: 0.1554 - val_loss: 0.0387 - val_mse: 0.0387 - val_mae: 0.1565\n",
            "Epoch 59/100\n",
            "48/48 [==============================] - 0s 6ms/step - loss: 0.0396 - mse: 0.0396 - mae: 0.1569 - val_loss: 0.0393 - val_mse: 0.0393 - val_mae: 0.1548\n",
            "Epoch 60/100\n",
            "48/48 [==============================] - 0s 6ms/step - loss: 0.0398 - mse: 0.0398 - mae: 0.1576 - val_loss: 0.0385 - val_mse: 0.0385 - val_mae: 0.1549\n",
            "Epoch 61/100\n",
            "48/48 [==============================] - 0s 6ms/step - loss: 0.0386 - mse: 0.0386 - mae: 0.1540 - val_loss: 0.0383 - val_mse: 0.0383 - val_mae: 0.1549\n",
            "Epoch 62/100\n",
            "48/48 [==============================] - 0s 6ms/step - loss: 0.0385 - mse: 0.0385 - mae: 0.1537 - val_loss: 0.0382 - val_mse: 0.0382 - val_mae: 0.1535\n",
            "Epoch 63/100\n",
            "48/48 [==============================] - 0s 6ms/step - loss: 0.0385 - mse: 0.0385 - mae: 0.1533 - val_loss: 0.0386 - val_mse: 0.0386 - val_mae: 0.1552\n",
            "Epoch 64/100\n",
            "48/48 [==============================] - 0s 6ms/step - loss: 0.0389 - mse: 0.0389 - mae: 0.1549 - val_loss: 0.0384 - val_mse: 0.0384 - val_mae: 0.1537\n",
            "Epoch 65/100\n",
            "48/48 [==============================] - 0s 6ms/step - loss: 0.0386 - mse: 0.0386 - mae: 0.1529 - val_loss: 0.0383 - val_mse: 0.0383 - val_mae: 0.1536\n",
            "Epoch 66/100\n",
            "48/48 [==============================] - 0s 7ms/step - loss: 0.0385 - mse: 0.0385 - mae: 0.1531 - val_loss: 0.0383 - val_mse: 0.0383 - val_mae: 0.1536\n",
            "Epoch 67/100\n",
            "48/48 [==============================] - 0s 10ms/step - loss: 0.0385 - mse: 0.0385 - mae: 0.1532 - val_loss: 0.0386 - val_mse: 0.0386 - val_mae: 0.1537\n",
            "Epoch 68/100\n",
            "48/48 [==============================] - 1s 11ms/step - loss: 0.0387 - mse: 0.0387 - mae: 0.1532 - val_loss: 0.0388 - val_mse: 0.0388 - val_mae: 0.1536\n",
            "Epoch 69/100\n",
            "48/48 [==============================] - 0s 10ms/step - loss: 0.0386 - mse: 0.0386 - mae: 0.1537 - val_loss: 0.0381 - val_mse: 0.0381 - val_mae: 0.1525\n",
            "Epoch 70/100\n",
            "48/48 [==============================] - 1s 11ms/step - loss: 0.0387 - mse: 0.0387 - mae: 0.1541 - val_loss: 0.0383 - val_mse: 0.0383 - val_mae: 0.1546\n",
            "Epoch 71/100\n",
            "48/48 [==============================] - 0s 7ms/step - loss: 0.0389 - mse: 0.0389 - mae: 0.1554 - val_loss: 0.0395 - val_mse: 0.0395 - val_mae: 0.1589\n",
            "Epoch 72/100\n",
            "48/48 [==============================] - 0s 6ms/step - loss: 0.0387 - mse: 0.0387 - mae: 0.1537 - val_loss: 0.0384 - val_mse: 0.0384 - val_mae: 0.1544\n",
            "Epoch 73/100\n",
            "48/48 [==============================] - 0s 6ms/step - loss: 0.0387 - mse: 0.0387 - mae: 0.1541 - val_loss: 0.0390 - val_mse: 0.0390 - val_mae: 0.1560\n",
            "Epoch 74/100\n",
            "48/48 [==============================] - 0s 7ms/step - loss: 0.0389 - mse: 0.0389 - mae: 0.1550 - val_loss: 0.0407 - val_mse: 0.0407 - val_mae: 0.1582\n",
            "Epoch 75/100\n",
            "48/48 [==============================] - 0s 6ms/step - loss: 0.0393 - mse: 0.0393 - mae: 0.1550 - val_loss: 0.0384 - val_mse: 0.0384 - val_mae: 0.1543\n",
            "Epoch 76/100\n",
            "48/48 [==============================] - 0s 6ms/step - loss: 0.0384 - mse: 0.0384 - mae: 0.1532 - val_loss: 0.0395 - val_mse: 0.0395 - val_mae: 0.1531\n",
            "Epoch 77/100\n",
            "48/48 [==============================] - 0s 6ms/step - loss: 0.0396 - mse: 0.0396 - mae: 0.1555 - val_loss: 0.0386 - val_mse: 0.0386 - val_mae: 0.1526\n",
            "Epoch 78/100\n",
            "48/48 [==============================] - 0s 9ms/step - loss: 0.0385 - mse: 0.0385 - mae: 0.1534 - val_loss: 0.0384 - val_mse: 0.0384 - val_mae: 0.1526\n",
            "Epoch 79/100\n",
            "48/48 [==============================] - 1s 11ms/step - loss: 0.0384 - mse: 0.0384 - mae: 0.1536 - val_loss: 0.0384 - val_mse: 0.0384 - val_mae: 0.1542\n",
            "Epoch 80/100\n",
            "48/48 [==============================] - 0s 9ms/step - loss: 0.0384 - mse: 0.0384 - mae: 0.1520 - val_loss: 0.0383 - val_mse: 0.0383 - val_mae: 0.1533\n",
            "Epoch 81/100\n",
            "48/48 [==============================] - 0s 9ms/step - loss: 0.0386 - mse: 0.0386 - mae: 0.1536 - val_loss: 0.0393 - val_mse: 0.0393 - val_mae: 0.1546\n",
            "Epoch 82/100\n",
            "48/48 [==============================] - 0s 9ms/step - loss: 0.0386 - mse: 0.0386 - mae: 0.1533 - val_loss: 0.0384 - val_mse: 0.0384 - val_mae: 0.1520\n",
            "Epoch 83/100\n",
            "48/48 [==============================] - 1s 11ms/step - loss: 0.0385 - mse: 0.0385 - mae: 0.1529 - val_loss: 0.0381 - val_mse: 0.0381 - val_mae: 0.1536\n",
            "Epoch 84/100\n",
            "48/48 [==============================] - 0s 7ms/step - loss: 0.0385 - mse: 0.0385 - mae: 0.1535 - val_loss: 0.0384 - val_mse: 0.0384 - val_mae: 0.1547\n",
            "Epoch 85/100\n",
            "48/48 [==============================] - 0s 6ms/step - loss: 0.0385 - mse: 0.0385 - mae: 0.1542 - val_loss: 0.0381 - val_mse: 0.0381 - val_mae: 0.1530\n",
            "Epoch 86/100\n",
            "48/48 [==============================] - 0s 6ms/step - loss: 0.0385 - mse: 0.0385 - mae: 0.1544 - val_loss: 0.0383 - val_mse: 0.0383 - val_mae: 0.1523\n",
            "Epoch 87/100\n",
            "48/48 [==============================] - 0s 6ms/step - loss: 0.0385 - mse: 0.0385 - mae: 0.1534 - val_loss: 0.0386 - val_mse: 0.0386 - val_mae: 0.1534\n",
            "Epoch 88/100\n",
            "48/48 [==============================] - 0s 6ms/step - loss: 0.0388 - mse: 0.0388 - mae: 0.1546 - val_loss: 0.0384 - val_mse: 0.0384 - val_mae: 0.1528\n",
            "Epoch 89/100\n",
            "48/48 [==============================] - 0s 6ms/step - loss: 0.0384 - mse: 0.0384 - mae: 0.1529 - val_loss: 0.0390 - val_mse: 0.0390 - val_mae: 0.1535\n",
            "Epoch 90/100\n",
            "48/48 [==============================] - 0s 6ms/step - loss: 0.0384 - mse: 0.0384 - mae: 0.1515 - val_loss: 0.0406 - val_mse: 0.0406 - val_mae: 0.1606\n",
            "Epoch 91/100\n",
            "48/48 [==============================] - 0s 6ms/step - loss: 0.0400 - mse: 0.0400 - mae: 0.1573 - val_loss: 0.0385 - val_mse: 0.0385 - val_mae: 0.1533\n",
            "Epoch 92/100\n",
            "48/48 [==============================] - 0s 6ms/step - loss: 0.0389 - mse: 0.0389 - mae: 0.1546 - val_loss: 0.0385 - val_mse: 0.0385 - val_mae: 0.1529\n",
            "Epoch 93/100\n",
            "48/48 [==============================] - 0s 6ms/step - loss: 0.0386 - mse: 0.0386 - mae: 0.1532 - val_loss: 0.0394 - val_mse: 0.0394 - val_mae: 0.1562\n",
            "Epoch 94/100\n",
            "48/48 [==============================] - 0s 7ms/step - loss: 0.0405 - mse: 0.0405 - mae: 0.1585 - val_loss: 0.0381 - val_mse: 0.0381 - val_mae: 0.1524\n",
            "Epoch 95/100\n",
            "48/48 [==============================] - 0s 6ms/step - loss: 0.0384 - mse: 0.0384 - mae: 0.1514 - val_loss: 0.0382 - val_mse: 0.0382 - val_mae: 0.1539\n",
            "Epoch 96/100\n",
            "48/48 [==============================] - 0s 6ms/step - loss: 0.0384 - mse: 0.0384 - mae: 0.1527 - val_loss: 0.0382 - val_mse: 0.0382 - val_mae: 0.1536\n",
            "Epoch 97/100\n",
            "48/48 [==============================] - 0s 6ms/step - loss: 0.0384 - mse: 0.0384 - mae: 0.1526 - val_loss: 0.0381 - val_mse: 0.0381 - val_mae: 0.1527\n",
            "Epoch 98/100\n",
            "48/48 [==============================] - 0s 6ms/step - loss: 0.0383 - mse: 0.0383 - mae: 0.1518 - val_loss: 0.0403 - val_mse: 0.0403 - val_mae: 0.1610\n",
            "Epoch 99/100\n",
            "48/48 [==============================] - 0s 6ms/step - loss: 0.0396 - mse: 0.0396 - mae: 0.1569 - val_loss: 0.0395 - val_mse: 0.0395 - val_mae: 0.1556\n",
            "Epoch 100/100\n",
            "48/48 [==============================] - 0s 6ms/step - loss: 0.0391 - mse: 0.0391 - mae: 0.1553 - val_loss: 0.0382 - val_mse: 0.0382 - val_mae: 0.1530\n"
          ]
        }
      ]
    },
    {
      "cell_type": "code",
      "source": [
        "model1.summary()"
      ],
      "metadata": {
        "colab": {
          "base_uri": "https://localhost:8080/"
        },
        "id": "DUQT35ve5Qo2",
        "outputId": "110e39cd-6c42-4587-bde1-20c0ffbd0f3d"
      },
      "execution_count": null,
      "outputs": [
        {
          "output_type": "stream",
          "name": "stdout",
          "text": [
            "Model: \"sequential\"\n",
            "_________________________________________________________________\n",
            " Layer (type)                Output Shape              Param #   \n",
            "=================================================================\n",
            " dense (Dense)               (None, 4)                 16        \n",
            "                                                                 \n",
            " dense_1 (Dense)             (None, 2106)              10530     \n",
            "                                                                 \n",
            " dense_2 (Dense)             (None, 1)                 2107      \n",
            "                                                                 \n",
            "=================================================================\n",
            "Total params: 12,653\n",
            "Trainable params: 12,653\n",
            "Non-trainable params: 0\n",
            "_________________________________________________________________\n"
          ]
        }
      ]
    },
    {
      "cell_type": "markdown",
      "source": [
        "# 4. Model Evaluation"
      ],
      "metadata": {
        "id": "saHzc6y_5XQO"
      }
    },
    {
      "cell_type": "code",
      "source": [
        "y_predict= model1.predict(xtest_scale)"
      ],
      "metadata": {
        "colab": {
          "base_uri": "https://localhost:8080/"
        },
        "id": "K8ElKGtZ5Rq_",
        "outputId": "b5e16b48-0f27-4b1b-f48b-802caedbbe1f"
      },
      "execution_count": null,
      "outputs": [
        {
          "output_type": "stream",
          "name": "stdout",
          "text": [
            "141/141 [==============================] - 0s 2ms/step\n"
          ]
        }
      ]
    },
    {
      "cell_type": "code",
      "source": [
        "print(hist1.history.keys())"
      ],
      "metadata": {
        "colab": {
          "base_uri": "https://localhost:8080/"
        },
        "id": "SvlFU7aZ5RuG",
        "outputId": "74e51756-ec46-477a-e936-d1f0a3b19c0b"
      },
      "execution_count": null,
      "outputs": [
        {
          "output_type": "stream",
          "name": "stdout",
          "text": [
            "dict_keys(['loss', 'mse', 'mae', 'val_loss', 'val_mse', 'val_mae'])\n"
          ]
        }
      ]
    },
    {
      "cell_type": "code",
      "source": [
        "hist1_df= pd.DataFrame(hist1.history)\n",
        "hist1_df['epoch']= hist1.epoch\n",
        "hist1_df.tail()"
      ],
      "metadata": {
        "colab": {
          "base_uri": "https://localhost:8080/",
          "height": 206
        },
        "id": "4j7y25Bm5Rw7",
        "outputId": "a5faca54-832e-4f65-c332-bafc18615a79"
      },
      "execution_count": null,
      "outputs": [
        {
          "output_type": "execute_result",
          "data": {
            "text/plain": [
              "        loss       mse       mae  val_loss   val_mse   val_mae  epoch\n",
              "95  0.038384  0.038384  0.152687  0.038213  0.038213  0.153559     95\n",
              "96  0.038443  0.038443  0.152613  0.038078  0.038078  0.152705     96\n",
              "97  0.038318  0.038318  0.151758  0.040309  0.040309  0.161034     97\n",
              "98  0.039613  0.039613  0.156911  0.039475  0.039475  0.155642     98\n",
              "99  0.039109  0.039109  0.155319  0.038170  0.038170  0.152956     99"
            ],
            "text/html": [
              "\n",
              "  <div id=\"df-7bcfeb11-4c12-4082-b142-abbedc56fb9d\">\n",
              "    <div class=\"colab-df-container\">\n",
              "      <div>\n",
              "<style scoped>\n",
              "    .dataframe tbody tr th:only-of-type {\n",
              "        vertical-align: middle;\n",
              "    }\n",
              "\n",
              "    .dataframe tbody tr th {\n",
              "        vertical-align: top;\n",
              "    }\n",
              "\n",
              "    .dataframe thead th {\n",
              "        text-align: right;\n",
              "    }\n",
              "</style>\n",
              "<table border=\"1\" class=\"dataframe\">\n",
              "  <thead>\n",
              "    <tr style=\"text-align: right;\">\n",
              "      <th></th>\n",
              "      <th>loss</th>\n",
              "      <th>mse</th>\n",
              "      <th>mae</th>\n",
              "      <th>val_loss</th>\n",
              "      <th>val_mse</th>\n",
              "      <th>val_mae</th>\n",
              "      <th>epoch</th>\n",
              "    </tr>\n",
              "  </thead>\n",
              "  <tbody>\n",
              "    <tr>\n",
              "      <th>95</th>\n",
              "      <td>0.038384</td>\n",
              "      <td>0.038384</td>\n",
              "      <td>0.152687</td>\n",
              "      <td>0.038213</td>\n",
              "      <td>0.038213</td>\n",
              "      <td>0.153559</td>\n",
              "      <td>95</td>\n",
              "    </tr>\n",
              "    <tr>\n",
              "      <th>96</th>\n",
              "      <td>0.038443</td>\n",
              "      <td>0.038443</td>\n",
              "      <td>0.152613</td>\n",
              "      <td>0.038078</td>\n",
              "      <td>0.038078</td>\n",
              "      <td>0.152705</td>\n",
              "      <td>96</td>\n",
              "    </tr>\n",
              "    <tr>\n",
              "      <th>97</th>\n",
              "      <td>0.038318</td>\n",
              "      <td>0.038318</td>\n",
              "      <td>0.151758</td>\n",
              "      <td>0.040309</td>\n",
              "      <td>0.040309</td>\n",
              "      <td>0.161034</td>\n",
              "      <td>97</td>\n",
              "    </tr>\n",
              "    <tr>\n",
              "      <th>98</th>\n",
              "      <td>0.039613</td>\n",
              "      <td>0.039613</td>\n",
              "      <td>0.156911</td>\n",
              "      <td>0.039475</td>\n",
              "      <td>0.039475</td>\n",
              "      <td>0.155642</td>\n",
              "      <td>98</td>\n",
              "    </tr>\n",
              "    <tr>\n",
              "      <th>99</th>\n",
              "      <td>0.039109</td>\n",
              "      <td>0.039109</td>\n",
              "      <td>0.155319</td>\n",
              "      <td>0.038170</td>\n",
              "      <td>0.038170</td>\n",
              "      <td>0.152956</td>\n",
              "      <td>99</td>\n",
              "    </tr>\n",
              "  </tbody>\n",
              "</table>\n",
              "</div>\n",
              "      <button class=\"colab-df-convert\" onclick=\"convertToInteractive('df-7bcfeb11-4c12-4082-b142-abbedc56fb9d')\"\n",
              "              title=\"Convert this dataframe to an interactive table.\"\n",
              "              style=\"display:none;\">\n",
              "        \n",
              "  <svg xmlns=\"http://www.w3.org/2000/svg\" height=\"24px\"viewBox=\"0 0 24 24\"\n",
              "       width=\"24px\">\n",
              "    <path d=\"M0 0h24v24H0V0z\" fill=\"none\"/>\n",
              "    <path d=\"M18.56 5.44l.94 2.06.94-2.06 2.06-.94-2.06-.94-.94-2.06-.94 2.06-2.06.94zm-11 1L8.5 8.5l.94-2.06 2.06-.94-2.06-.94L8.5 2.5l-.94 2.06-2.06.94zm10 10l.94 2.06.94-2.06 2.06-.94-2.06-.94-.94-2.06-.94 2.06-2.06.94z\"/><path d=\"M17.41 7.96l-1.37-1.37c-.4-.4-.92-.59-1.43-.59-.52 0-1.04.2-1.43.59L10.3 9.45l-7.72 7.72c-.78.78-.78 2.05 0 2.83L4 21.41c.39.39.9.59 1.41.59.51 0 1.02-.2 1.41-.59l7.78-7.78 2.81-2.81c.8-.78.8-2.07 0-2.86zM5.41 20L4 18.59l7.72-7.72 1.47 1.35L5.41 20z\"/>\n",
              "  </svg>\n",
              "      </button>\n",
              "      \n",
              "  <style>\n",
              "    .colab-df-container {\n",
              "      display:flex;\n",
              "      flex-wrap:wrap;\n",
              "      gap: 12px;\n",
              "    }\n",
              "\n",
              "    .colab-df-convert {\n",
              "      background-color: #E8F0FE;\n",
              "      border: none;\n",
              "      border-radius: 50%;\n",
              "      cursor: pointer;\n",
              "      display: none;\n",
              "      fill: #1967D2;\n",
              "      height: 32px;\n",
              "      padding: 0 0 0 0;\n",
              "      width: 32px;\n",
              "    }\n",
              "\n",
              "    .colab-df-convert:hover {\n",
              "      background-color: #E2EBFA;\n",
              "      box-shadow: 0px 1px 2px rgba(60, 64, 67, 0.3), 0px 1px 3px 1px rgba(60, 64, 67, 0.15);\n",
              "      fill: #174EA6;\n",
              "    }\n",
              "\n",
              "    [theme=dark] .colab-df-convert {\n",
              "      background-color: #3B4455;\n",
              "      fill: #D2E3FC;\n",
              "    }\n",
              "\n",
              "    [theme=dark] .colab-df-convert:hover {\n",
              "      background-color: #434B5C;\n",
              "      box-shadow: 0px 1px 3px 1px rgba(0, 0, 0, 0.15);\n",
              "      filter: drop-shadow(0px 1px 2px rgba(0, 0, 0, 0.3));\n",
              "      fill: #FFFFFF;\n",
              "    }\n",
              "  </style>\n",
              "\n",
              "      <script>\n",
              "        const buttonEl =\n",
              "          document.querySelector('#df-7bcfeb11-4c12-4082-b142-abbedc56fb9d button.colab-df-convert');\n",
              "        buttonEl.style.display =\n",
              "          google.colab.kernel.accessAllowed ? 'block' : 'none';\n",
              "\n",
              "        async function convertToInteractive(key) {\n",
              "          const element = document.querySelector('#df-7bcfeb11-4c12-4082-b142-abbedc56fb9d');\n",
              "          const dataTable =\n",
              "            await google.colab.kernel.invokeFunction('convertToInteractive',\n",
              "                                                     [key], {});\n",
              "          if (!dataTable) return;\n",
              "\n",
              "          const docLinkHtml = 'Like what you see? Visit the ' +\n",
              "            '<a target=\"_blank\" href=https://colab.research.google.com/notebooks/data_table.ipynb>data table notebook</a>'\n",
              "            + ' to learn more about interactive tables.';\n",
              "          element.innerHTML = '';\n",
              "          dataTable['output_type'] = 'display_data';\n",
              "          await google.colab.output.renderOutput(dataTable, element);\n",
              "          const docLink = document.createElement('div');\n",
              "          docLink.innerHTML = docLinkHtml;\n",
              "          element.appendChild(docLink);\n",
              "        }\n",
              "      </script>\n",
              "    </div>\n",
              "  </div>\n",
              "  "
            ]
          },
          "metadata": {},
          "execution_count": 23
        }
      ]
    },
    {
      "cell_type": "markdown",
      "source": [
        "# 5. Visualize Training History"
      ],
      "metadata": {
        "id": "2BfDpweL_mTu"
      }
    },
    {
      "cell_type": "code",
      "source": [
        "# summarize history for loss\n",
        "sns.set(rc= {'figure.figsize': (6,4)})\n",
        "\n",
        "plt.plot(hist1.history['loss'])\n",
        "plt.plot(hist1.history['val_loss'])\n",
        "plt.title('model1 loss')\n",
        "plt.ylabel('loss')\n",
        "plt.xlabel('epoch')\n",
        "plt.legend(['train', 'test'], loc='upper right')\n",
        "plt.show()"
      ],
      "metadata": {
        "colab": {
          "base_uri": "https://localhost:8080/",
          "height": 301
        },
        "id": "dqfl9kE15RzT",
        "outputId": "966ce4e3-8bc7-407f-feed-ef476dd54121"
      },
      "execution_count": null,
      "outputs": [
        {
          "output_type": "display_data",
          "data": {
            "text/plain": [
              "<Figure size 432x288 with 1 Axes>"
            ],
            "image/png": "[encoded data removed]"
          },
          "metadata": {}
        }
      ]
    },
    {
      "cell_type": "code",
      "source": [
        "# summarize history for loss\n",
        "plt.plot(hist1.history['mse'])\n",
        "plt.plot(hist1.history['val_mse'])\n",
        "plt.title('model1 mse')\n",
        "plt.ylabel('mse')\n",
        "plt.xlabel('epoch')\n",
        "plt.legend(['train', 'test'], loc= 'upper right')\n",
        "plt.show()"
      ],
      "metadata": {
        "colab": {
          "base_uri": "https://localhost:8080/",
          "height": 301
        },
        "id": "HlllJWyh5R2x",
        "outputId": "87325ced-9a91-4b1b-8633-0ae09cc013ca"
      },
      "execution_count": null,
      "outputs": [
        {
          "output_type": "display_data",
          "data": {
            "text/plain": [
              "<Figure size 432x288 with 1 Axes>"
            ],
            "image/png": "[encoded data removed]"
          },
          "metadata": {}
        }
      ]
    }
  ]
}